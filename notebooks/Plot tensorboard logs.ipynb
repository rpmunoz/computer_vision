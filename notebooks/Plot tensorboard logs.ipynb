{
 "cells": [
  {
   "cell_type": "code",
   "execution_count": 66,
   "metadata": {},
   "outputs": [],
   "source": [
    "import os\n",
    "import matplotlib.pyplot as plt\n",
    "import tensorflow as tf\n",
    "import pandas as pd\n",
    "import numpy as np\n",
    "import seaborn as sns"
   ]
  },
  {
   "cell_type": "code",
   "execution_count": 76,
   "metadata": {},
   "outputs": [
    {
     "data": {
      "text/html": [
       "<div>\n",
       "<style scoped>\n",
       "    .dataframe tbody tr th:only-of-type {\n",
       "        vertical-align: middle;\n",
       "    }\n",
       "\n",
       "    .dataframe tbody tr th {\n",
       "        vertical-align: top;\n",
       "    }\n",
       "\n",
       "    .dataframe thead th {\n",
       "        text-align: right;\n",
       "    }\n",
       "</style>\n",
       "<table border=\"1\" class=\"dataframe\">\n",
       "  <thead>\n",
       "    <tr style=\"text-align: right;\">\n",
       "      <th></th>\n",
       "      <th>dataset</th>\n",
       "      <th>metric</th>\n",
       "      <th>value</th>\n",
       "      <th>epoch</th>\n",
       "    </tr>\n",
       "  </thead>\n",
       "  <tbody>\n",
       "    <tr>\n",
       "      <th>0</th>\n",
       "      <td>train</td>\n",
       "      <td>epoch_loss</td>\n",
       "      <td>4.302042</td>\n",
       "      <td>0</td>\n",
       "    </tr>\n",
       "    <tr>\n",
       "      <th>1</th>\n",
       "      <td>train</td>\n",
       "      <td>epoch_accuracy</td>\n",
       "      <td>0.113700</td>\n",
       "      <td>0</td>\n",
       "    </tr>\n",
       "    <tr>\n",
       "      <th>2</th>\n",
       "      <td>train</td>\n",
       "      <td>epoch_loss</td>\n",
       "      <td>3.568005</td>\n",
       "      <td>1</td>\n",
       "    </tr>\n",
       "    <tr>\n",
       "      <th>3</th>\n",
       "      <td>train</td>\n",
       "      <td>epoch_accuracy</td>\n",
       "      <td>0.230880</td>\n",
       "      <td>1</td>\n",
       "    </tr>\n",
       "    <tr>\n",
       "      <th>4</th>\n",
       "      <td>train</td>\n",
       "      <td>epoch_loss</td>\n",
       "      <td>3.100625</td>\n",
       "      <td>2</td>\n",
       "    </tr>\n",
       "  </tbody>\n",
       "</table>\n",
       "</div>"
      ],
      "text/plain": [
       "  dataset          metric     value  epoch\n",
       "0   train      epoch_loss  4.302042      0\n",
       "1   train  epoch_accuracy  0.113700      0\n",
       "2   train      epoch_loss  3.568005      1\n",
       "3   train  epoch_accuracy  0.230880      1\n",
       "4   train      epoch_loss  3.100625      2"
      ]
     },
     "execution_count": 76,
     "metadata": {},
     "output_type": "execute_result"
    }
   ],
   "source": [
    "logsDir = 'logs/cifar100_resnet50_adam_v6/20200606-150929'\n",
    "folderList = ['train', 'validation']\n",
    "\n",
    "tagList = [\"loss\", \"accuracy\"]\n",
    "logDF = pd.DataFrame()\n",
    "\n",
    "for folder in folderList:\n",
    "\n",
    "    logFile = os.listdir(os.path.join(logsDir, folder))[0]\n",
    "    logFile = os.path.join(logsDir, folder, logFile)\n",
    "    logList = []\n",
    "\n",
    "    for idx, e in enumerate(tf.compat.v1.train.summary_iterator(logFile)):\n",
    "        for v in e.summary.value:\n",
    "            if any(tag in v.tag for tag in tagList):\n",
    "                r = {'dataset':folder, 'metric': v.tag, 'value':v.simple_value}\n",
    "                logList.append(r)\n",
    "    \n",
    "    tempDF = pd.DataFrame(logList)\n",
    "    nEpochs = int(len(logList)/2)\n",
    "    epochList= [item for sublist in [[i]*2 for i in range(0,nEpochs)] for item in sublist]\n",
    "    tempDF['epoch'] = epochList\n",
    "    \n",
    "    logDF = logDF.append(tempDF)\n",
    "\n",
    "#print([item for sublist in [[i]*2 for i in range(0, len(logList)//5)] for item in sublist])\n",
    "logDF.head()"
   ]
  },
  {
   "cell_type": "code",
   "execution_count": 77,
   "metadata": {},
   "outputs": [
    {
     "data": {
      "text/html": [
       "<div>\n",
       "<style scoped>\n",
       "    .dataframe tbody tr th:only-of-type {\n",
       "        vertical-align: middle;\n",
       "    }\n",
       "\n",
       "    .dataframe tbody tr th {\n",
       "        vertical-align: top;\n",
       "    }\n",
       "\n",
       "    .dataframe thead th {\n",
       "        text-align: right;\n",
       "    }\n",
       "</style>\n",
       "<table border=\"1\" class=\"dataframe\">\n",
       "  <thead>\n",
       "    <tr style=\"text-align: right;\">\n",
       "      <th>metric</th>\n",
       "      <th>epoch</th>\n",
       "      <th>dataset</th>\n",
       "      <th>epoch_accuracy</th>\n",
       "      <th>epoch_loss</th>\n",
       "    </tr>\n",
       "  </thead>\n",
       "  <tbody>\n",
       "    <tr>\n",
       "      <th>0</th>\n",
       "      <td>0</td>\n",
       "      <td>train</td>\n",
       "      <td>0.11370</td>\n",
       "      <td>4.302042</td>\n",
       "    </tr>\n",
       "    <tr>\n",
       "      <th>1</th>\n",
       "      <td>0</td>\n",
       "      <td>validation</td>\n",
       "      <td>0.16950</td>\n",
       "      <td>3.911515</td>\n",
       "    </tr>\n",
       "    <tr>\n",
       "      <th>2</th>\n",
       "      <td>1</td>\n",
       "      <td>train</td>\n",
       "      <td>0.23088</td>\n",
       "      <td>3.568005</td>\n",
       "    </tr>\n",
       "    <tr>\n",
       "      <th>3</th>\n",
       "      <td>1</td>\n",
       "      <td>validation</td>\n",
       "      <td>0.24180</td>\n",
       "      <td>3.503273</td>\n",
       "    </tr>\n",
       "    <tr>\n",
       "      <th>4</th>\n",
       "      <td>2</td>\n",
       "      <td>train</td>\n",
       "      <td>0.31652</td>\n",
       "      <td>3.100625</td>\n",
       "    </tr>\n",
       "  </tbody>\n",
       "</table>\n",
       "</div>"
      ],
      "text/plain": [
       "metric  epoch     dataset  epoch_accuracy  epoch_loss\n",
       "0           0       train         0.11370    4.302042\n",
       "1           0  validation         0.16950    3.911515\n",
       "2           1       train         0.23088    3.568005\n",
       "3           1  validation         0.24180    3.503273\n",
       "4           2       train         0.31652    3.100625"
      ]
     },
     "execution_count": 77,
     "metadata": {},
     "output_type": "execute_result"
    }
   ],
   "source": [
    "pivotDF = pd.pivot_table(logDF, values='value', index=['epoch', 'dataset'],\n",
    "                            columns=['metric'], aggfunc=np.sum)\n",
    "\n",
    "pivotDF.reset_index(inplace=True)\n",
    "pivotDF.head()"
   ]
  },
  {
   "cell_type": "code",
   "execution_count": 78,
   "metadata": {},
   "outputs": [
    {
     "data": {
      "text/plain": [
       "<matplotlib.axes._subplots.AxesSubplot at 0x7f88d0a81c90>"
      ]
     },
     "execution_count": 78,
     "metadata": {},
     "output_type": "execute_result"
    },
    {
     "data": {
      "image/png": "[encoded data removed]",
      "text/plain": [
       "<Figure size 432x288 with 1 Axes>"
      ]
     },
     "metadata": {
      "needs_background": "light"
     },
     "output_type": "display_data"
    }
   ],
   "source": [
    "sns.lineplot(x=\"epoch\", y=\"epoch_accuracy\", hue=\"dataset\", data=pivotDF)"
   ]
  },
  {
   "cell_type": "code",
   "execution_count": null,
   "metadata": {},
   "outputs": [],
   "source": []
  }
 ],
 "metadata": {
  "kernelspec": {
   "display_name": "TensorFlow",
   "language": "python",
   "name": "tf2"
  },
  "language_info": {
   "codemirror_mode": {
    "name": "ipython",
    "version": 3
   },
   "file_extension": ".py",
   "mimetype": "text/x-python",
   "name": "python",
   "nbconvert_exporter": "python",
   "pygments_lexer": "ipython3",
   "version": "3.7.7"
  }
 },
 "nbformat": 4,
 "nbformat_minor": 4
}
