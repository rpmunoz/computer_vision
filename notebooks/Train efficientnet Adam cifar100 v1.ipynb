{
 "cells": [
  {
   "cell_type": "markdown",
   "metadata": {
    "colab_type": "text",
    "id": "JuiT6O71HUAy"
   },
   "source": [
    "# Initial Setup"
   ]
  },
  {
   "cell_type": "code",
   "execution_count": 1,
   "metadata": {
    "colab": {
     "base_uri": "https://localhost:8080/",
     "height": 35
    },
    "colab_type": "code",
    "id": "FgWG4d-K3xRt",
    "outputId": "140af918-8fea-4aac-d44d-80191d1a2877"
   },
   "outputs": [
    {
     "name": "stdout",
     "output_type": "stream",
     "text": [
      "2.2.0\n"
     ]
    }
   ],
   "source": [
    "import os\n",
    "import numpy as np\n",
    "import datetime\n",
    "import time\n",
    "import pandas as pd\n",
    "import matplotlib.pyplot as plt\n",
    "from tqdm.notebook import tqdm\n",
    "\n",
    "import tensorflow as tf\n",
    "import tensorflow_addons as tfa\n",
    "from tensorflow import keras\n",
    "from tensorflow.keras import layers\n",
    "from tensorflow.python.util.tf_export import keras_export\n",
    "\n",
    "print(tf.__version__)"
   ]
  },
  {
   "cell_type": "code",
   "execution_count": 2,
   "metadata": {},
   "outputs": [
    {
     "name": "stdout",
     "output_type": "stream",
     "text": [
      "1 Physical GPUs, 1 Logical GPUs\n"
     ]
    }
   ],
   "source": [
    "gpus = tf.config.experimental.list_physical_devices('GPU')\n",
    "if gpus:\n",
    "  try:\n",
    "    # Currently, memory growth needs to be the same across GPUs\n",
    "    for gpu in gpus:\n",
    "      tf.config.experimental.set_memory_growth(gpu, True)\n",
    "    logical_gpus = tf.config.experimental.list_logical_devices('GPU')\n",
    "    print(len(gpus), \"Physical GPUs,\", len(logical_gpus), \"Logical GPUs\")\n",
    "  except RuntimeError as e:\n",
    "    # Memory growth must be set before GPUs have been initialized\n",
    "    print(e)"
   ]
  },
  {
   "cell_type": "markdown",
   "metadata": {
    "colab_type": "text",
    "id": "ebM6CaFsHcya"
   },
   "source": [
    "## Imagenet Subset "
   ]
  },
  {
   "cell_type": "code",
   "execution_count": 3,
   "metadata": {},
   "outputs": [],
   "source": [
    "dataDir = '/data/datasets/cifar100/raw'\n",
    "\n",
    "configDir = 'config'\n",
    "resultsDir = 'results'\n",
    "modelsDir = 'saved_models/cifar100_efficientnet_Adam_v1'\n",
    "logsDir = 'logs/cifar100_efficientnet_Adam_v1'"
   ]
  },
  {
   "cell_type": "code",
   "execution_count": 4,
   "metadata": {},
   "outputs": [],
   "source": [
    "BATCH_SIZE = 64\n",
    "NUM_EPOCHS = 100\n",
    "LOG_STEPS = 100\n",
    "AUTOTUNE = tf.data.experimental.AUTOTUNE\n",
    "\n",
    "NUM_CLASSES = 100\n",
    "IMG_HEIGHT = 32\n",
    "IMG_WIDTH = 32\n",
    "NUM_CHANNELS = 3\n",
    "\n",
    "IMG_SIZE = (IMG_HEIGHT, IMG_WIDTH)"
   ]
  },
  {
   "cell_type": "code",
   "execution_count": 5,
   "metadata": {},
   "outputs": [],
   "source": [
    "if not os.path.exists(configDir):\n",
    "  os.makedirs(configDir)\n",
    "\n",
    "if not os.path.exists(resultsDir):\n",
    "  os.makedirs(resultsDir)\n",
    "\n",
    "if not os.path.exists(modelsDir):\n",
    "  os.makedirs(modelsDir)\n",
    "        \n",
    "if not os.path.exists(logsDir):\n",
    "  os.makedirs(logsDir)"
   ]
  },
  {
   "cell_type": "code",
   "execution_count": 6,
   "metadata": {},
   "outputs": [],
   "source": [
    "def unpickle(file):\n",
    "  import pickle\n",
    "  with open(file, 'rb') as fo:\n",
    "    cifar_dict = pickle.load(fo, encoding='bytes')\n",
    "  return cifar_dict\n",
    "\n",
    "def show_batch(image_batch, label_batch):\n",
    "  plt.figure(figsize=(10,10))\n",
    "  for n in range(25):\n",
    "    ax = plt.subplot(5,5,n+1)\n",
    "    plt.imshow(image_batch[n])\n",
    "    plt.title(CLASS_NAMES[label_batch[n]==1][0].title())\n",
    "    plt.axis('off')"
   ]
  },
  {
   "cell_type": "code",
   "execution_count": 7,
   "metadata": {},
   "outputs": [],
   "source": [
    "def rotate_zoom_tf(image, angle, zoom):\n",
    "\n",
    "  angleRad = angle/180.*np.pi\n",
    "\n",
    "  if image.shape.__len__() ==4:\n",
    "    random_angles = tf.random.uniform(shape = (tf.shape(image)[0], ), minval = -angleRad, maxval = angleRad)\n",
    "    random_zoom = tf.random.uniform(shape = (tf.shape(image)[0], ), minval = 1-zoom, maxval = 1+zoom)\n",
    "  if image.shape.__len__() ==3:\n",
    "    random_angles = tf.random.uniform(shape = (), minval = -angleRad, maxval = angleRad)\n",
    "    random_zoom = tf.random.uniform(shape = (), minval = 1-zoom, maxval = 1+zoom)\n",
    "\n",
    "  paddings = tf.constant([[int(IMG_HEIGHT/4), int(IMG_HEIGHT/4)], [int(IMG_WIDTH/4), int(IMG_WIDTH/4)], [0,0]])\n",
    "  img = tf.pad(image, paddings, \"SYMMETRIC\")\n",
    "  img = tfa.image.rotate(img, random_angles)\n",
    "  img = tf.image.resize_with_crop_or_pad(img, int(IMG_HEIGHT*random_zoom), int(IMG_WIDTH*random_zoom))\n",
    "  img = tf.image.resize(img, [IMG_HEIGHT,IMG_WIDTH], method=tf.image.ResizeMethod.BILINEAR)\n",
    "\n",
    "  return img\n",
    "\n",
    "def rotate_tf(image, angle):\n",
    "  angleRad = angle/180.*np.pi\n",
    "\n",
    "  if image.shape.__len__() ==4:   \n",
    "    random_angles = tf.random.uniform(shape = (tf.shape(image)[0], ), minval = -angleRad, maxval = angleRad)\n",
    "  if image.shape.__len__() ==3:\n",
    "    random_angles = tf.random.uniform(shape = (), minval = -angleRad, maxval = angleRad)\n",
    "\n",
    "  paddings = tf.constant([[int(IMG_HEIGHT/4), int(IMG_HEIGHT/4)], [int(IMG_WIDTH/4), int(IMG_WIDTH/4)], [0,0]])\n",
    "  img = tf.pad(image, paddings, \"SYMMETRIC\")\n",
    "  img = tfa.image.rotate(img, random_angles)\n",
    "  img = tf.image.resize_with_crop_or_pad(img, IMG_HEIGHT, IMG_WIDTH)\n",
    "\n",
    "  return img\n",
    "\n",
    "def augment(image, label):\n",
    "  #img = tf.image.rot90(image)\n",
    "  img = tf.image.flip_left_right(image)\n",
    "  #img = rotate_tf(image, 20)\n",
    "  img = rotate_zoom_tf(image, 20, 0.2)\n",
    "  #img = tf.image.random_brightness(img, 0.05)\n",
    "  #img = tf.image.random_contrast(img, 0.9, 1.1)\n",
    "  img = tf.clip_by_value(img, 0.0, 1.0)\n",
    "\n",
    "  return (img, label)\n",
    "\n",
    "def prepare_for_training(ds, cache=True, shuffle_buffer_size=1000):\n",
    "  # This is a small dataset, only load it once, and keep it in memory.\n",
    "  # use `.cache(filename)` to cache preprocessing work for datasets that don't\n",
    "  # fit in memory.\n",
    "  if cache:\n",
    "    if isinstance(cache, str):\n",
    "      ds = ds.cache(cache)\n",
    "    else:\n",
    "      ds = ds.cache()\n",
    "\n",
    "  ds = ds.shuffle(buffer_size=shuffle_buffer_size)\n",
    "\n",
    "  ds = ds.map(augment, num_parallel_calls=AUTOTUNE)\n",
    "\n",
    "  # Repeat forever\n",
    "  ds = ds.repeat()\n",
    "\n",
    "  ds = ds.batch(BATCH_SIZE)\n",
    "\n",
    "  # `prefetch` lets the dataset fetch batches in the background while the model\n",
    "  # is training.\n",
    "  ds = ds.prefetch(buffer_size=AUTOTUNE)\n",
    "\n",
    "  return ds\n",
    "\n",
    "def prepare_for_validation(ds, cache=True, shuffle_buffer_size=1000):\n",
    "  # This is a small dataset, only load it once, and keep it in memory.\n",
    "  # use `.cache(filename)` to cache preprocessing work for datasets that don't\n",
    "  # fit in memory.\n",
    "  if cache:\n",
    "    if isinstance(cache, str):\n",
    "      ds = ds.cache(cache)\n",
    "    else:\n",
    "      ds = ds.cache()\n",
    "\n",
    "  ds = ds.batch(BATCH_SIZE)\n",
    "\n",
    "  # `prefetch` lets the dataset fetch batches in the background while the model\n",
    "  # is training.\n",
    "  ds = ds.prefetch(buffer_size=AUTOTUNE)\n",
    "\n",
    "  return ds"
   ]
  },
  {
   "cell_type": "code",
   "execution_count": 8,
   "metadata": {},
   "outputs": [],
   "source": [
    "meta = unpickle(os.path.join(dataDir, 'meta'))\n",
    "train = unpickle(os.path.join(dataDir, 'train'))\n",
    "test = unpickle(os.path.join(dataDir, 'test'))"
   ]
  },
  {
   "cell_type": "code",
   "execution_count": 9,
   "metadata": {},
   "outputs": [],
   "source": [
    "classDF = pd.DataFrame(meta[b'fine_label_names'], columns = ['Classes'], dtype=str)\n",
    "CLASS_NAMES = np.array(classDF['Classes'])"
   ]
  },
  {
   "cell_type": "code",
   "execution_count": 10,
   "metadata": {},
   "outputs": [],
   "source": [
    "trainX = np.vstack(train[b\"data\"])\n",
    "trainX = trainX.reshape(len(trainX), NUM_CHANNELS, IMG_HEIGHT, IMG_WIDTH).transpose(0,2,3,1).astype(\"float32\")/255\n",
    "trainY = np.array(train[b'fine_labels'])\n",
    "trainY = tf.one_hot(trainY, NUM_CLASSES)\n",
    "\n",
    "testX = np.vstack(test[b\"data\"])\n",
    "testX = testX.reshape(len(testX), NUM_CHANNELS, IMG_HEIGHT, IMG_WIDTH).transpose(0,2,3,1).astype(\"float32\")/255\n",
    "testY = np.array(test[b'fine_labels'])#.reshape(-1,1)\n",
    "testY = tf.one_hot(testY, NUM_CLASSES)"
   ]
  },
  {
   "cell_type": "code",
   "execution_count": 11,
   "metadata": {},
   "outputs": [
    {
     "name": "stdout",
     "output_type": "stream",
     "text": [
      "Train dataset numpy array\n",
      "(50000, 32, 32, 3)\n",
      "(50000, 100)\n",
      "\n",
      "Validation dataset numpy array\n",
      "(10000, 32, 32, 3)\n",
      "(10000, 100)\n"
     ]
    }
   ],
   "source": [
    "print(\"Train dataset numpy array\")\n",
    "print(trainX.shape)\n",
    "print(trainY.shape)\n",
    "\n",
    "print(\"\\nValidation dataset numpy array\")\n",
    "print(testX.shape)\n",
    "print(testY.shape)"
   ]
  },
  {
   "cell_type": "code",
   "execution_count": 12,
   "metadata": {},
   "outputs": [],
   "source": [
    "TRAIN_EXAMPLES = trainX.shape[0]\n",
    "VAL_EXAMPLES = testX.shape[0]\n",
    "\n",
    "TRAIN_STEPS = TRAIN_EXAMPLES//BATCH_SIZE\n",
    "VAL_STEPS = VAL_EXAMPLES//BATCH_SIZE"
   ]
  },
  {
   "cell_type": "code",
   "execution_count": 13,
   "metadata": {},
   "outputs": [],
   "source": [
    "trainLabelDS = tf.data.Dataset.from_tensor_slices((trainX, trainY))\n",
    "valLabelDS = tf.data.Dataset.from_tensor_slices((testX, testY))"
   ]
  },
  {
   "cell_type": "code",
   "execution_count": 14,
   "metadata": {},
   "outputs": [],
   "source": [
    "trainDS = prepare_for_training(trainLabelDS)\n",
    "valDS = prepare_for_validation(valLabelDS)"
   ]
  },
  {
   "cell_type": "code",
   "execution_count": 15,
   "metadata": {},
   "outputs": [
    {
     "data": {
      "image/png": "[encoded data removed]",
      "text/plain": [
       "<Figure size 720x720 with 25 Axes>"
      ]
     },
     "metadata": {
      "needs_background": "light"
     },
     "output_type": "display_data"
    }
   ],
   "source": [
    "image_batch, label_batch = next(iter(trainDS))\n",
    "show_batch(image_batch.numpy(), label_batch.numpy())"
   ]
  },
  {
   "cell_type": "markdown",
   "metadata": {},
   "source": [
    "## Create model"
   ]
  },
  {
   "cell_type": "code",
   "execution_count": 24,
   "metadata": {},
   "outputs": [],
   "source": [
    "import efficientnet.tfkeras as efn\n",
    "\n",
    "modelDiagramFile = os.path.join(resultsDir, 'model_efficientnet_cifar100_v1.png')\n",
    "\n",
    "base_model = efn.EfficientNetB0(input_shape=(IMG_HEIGHT, IMG_WIDTH, NUM_CHANNELS), weights=None, include_top=False)\n",
    "\n",
    "x = base_model.output\n",
    "x = layers.GlobalAveragePooling2D()(x)\n",
    "predictions = layers.Dense(NUM_CLASSES, activation='softmax')(x)\n",
    "model = keras.Model(inputs=base_model.input, outputs=predictions)\n",
    "\n",
    "#keras.utils.plot_model(model, to_file=modelDiagramFile, show_shapes=True)\n",
    "#model.summary()"
   ]
  },
  {
   "cell_type": "markdown",
   "metadata": {},
   "source": [
    "## Train model"
   ]
  },
  {
   "cell_type": "code",
   "execution_count": 25,
   "metadata": {},
   "outputs": [],
   "source": [
    "optimizer = tf.optimizers.Adam(learning_rate=1e-3)"
   ]
  },
  {
   "cell_type": "code",
   "execution_count": 28,
   "metadata": {},
   "outputs": [],
   "source": [
    "loss_obj = tf.keras.losses.CategoricalCrossentropy(\n",
    "          label_smoothing=0.)"
   ]
  },
  {
   "cell_type": "code",
   "execution_count": 29,
   "metadata": {},
   "outputs": [],
   "source": [
    "metrics=[tf.keras.metrics.CategoricalAccuracy(name='accuracy'),\n",
    "         tf.keras.metrics.TopKCategoricalAccuracy(k=5, name='top_5_accuracy')]"
   ]
  },
  {
   "cell_type": "code",
   "execution_count": 30,
   "metadata": {},
   "outputs": [],
   "source": [
    "model.compile(optimizer=optimizer,\n",
    "              loss=loss_obj,\n",
    "              metrics=metrics)"
   ]
  },
  {
   "cell_type": "code",
   "execution_count": 31,
   "metadata": {},
   "outputs": [],
   "source": [
    "# Hack to log learning rate in Tensorboard\n",
    "\n",
    "class TensorBoard(tf.keras.callbacks.TensorBoard):\n",
    "    def _collect_learning_rate(self, logs):\n",
    "        logs = logs or {}\n",
    "        lr_schedule = getattr(self.model.optimizer, \"lr\", None)\n",
    "        if isinstance(lr_schedule, tf.keras.optimizers.schedules.LearningRateSchedule):\n",
    "            logs[\"learning_rate\"] = tf.keras.backend.get_value(\n",
    "                lr_schedule(self.model.optimizer.iterations)\n",
    "            )\n",
    "        return logs\n",
    "\n",
    "    def _log_metrics(self, logs, prefix, step):\n",
    "        super()._log_metrics(self._collect_learning_rate(logs), prefix, step)"
   ]
  },
  {
   "cell_type": "code",
   "execution_count": 32,
   "metadata": {},
   "outputs": [],
   "source": [
    "from utils.keras_utils import TimeHistory\n",
    "\n",
    "logsCheckDir = os.path.join(logsDir, datetime.datetime.now().strftime(\"%Y%m%d-%H%M%S\"))\n",
    "\n",
    "tb_callback = TensorBoard(log_dir=logsCheckDir, histogram_freq=1)\n",
    "\n",
    "perf_callback = TimeHistory(BATCH_SIZE,\n",
    "                            LOG_STEPS,\n",
    "                            logdir=logsCheckDir+'/metrics')\n",
    "\n",
    "callbacks = [tb_callback, perf_callback]"
   ]
  },
  {
   "cell_type": "code",
   "execution_count": null,
   "metadata": {},
   "outputs": [
    {
     "name": "stdout",
     "output_type": "stream",
     "text": [
      "Epoch 1/100\n",
      "  2/781 [..............................] - ETA: 4:11 - loss: 4.9532 - accuracy: 0.0078 - top_5_accuracy: 0.0312  WARNING:tensorflow:Method (on_train_batch_end) is slow compared to the batch update (0.309780). Check your callbacks.\n"
     ]
    },
    {
     "name": "stderr",
     "output_type": "stream",
     "text": [
      "WARNING:tensorflow:Method (on_train_batch_end) is slow compared to the batch update (0.309780). Check your callbacks.\n"
     ]
    },
    {
     "name": "stdout",
     "output_type": "stream",
     "text": [
      "781/781 [==============================] - 27s 35ms/step - loss: 4.3402 - accuracy: 0.0481 - top_5_accuracy: 0.1870 - val_loss: 4.0153 - val_accuracy: 0.0814 - val_top_5_accuracy: 0.2806\n",
      "Epoch 2/100\n",
      "781/781 [==============================] - 25s 32ms/step - loss: 3.9257 - accuracy: 0.0943 - top_5_accuracy: 0.3063 - val_loss: 4.2362 - val_accuracy: 0.1172 - val_top_5_accuracy: 0.3670\n",
      "Epoch 3/100\n",
      "781/781 [==============================] - 25s 32ms/step - loss: 3.6839 - accuracy: 0.1291 - top_5_accuracy: 0.3779 - val_loss: 3.6839 - val_accuracy: 0.1491 - val_top_5_accuracy: 0.4085\n",
      "Epoch 4/100\n",
      "781/781 [==============================] - 25s 33ms/step - loss: 3.5466 - accuracy: 0.1542 - top_5_accuracy: 0.4153 - val_loss: 3.4321 - val_accuracy: 0.1875 - val_top_5_accuracy: 0.4750\n",
      "Epoch 5/100\n",
      "781/781 [==============================] - 25s 32ms/step - loss: 3.3895 - accuracy: 0.1794 - top_5_accuracy: 0.4601 - val_loss: 4.2899 - val_accuracy: 0.1655 - val_top_5_accuracy: 0.4181\n",
      "Epoch 6/100\n",
      "781/781 [==============================] - 25s 32ms/step - loss: 3.2653 - accuracy: 0.2025 - top_5_accuracy: 0.4900 - val_loss: 3.1939 - val_accuracy: 0.2309 - val_top_5_accuracy: 0.5199\n",
      "Epoch 7/100\n",
      "781/781 [==============================] - 25s 32ms/step - loss: 3.1842 - accuracy: 0.2159 - top_5_accuracy: 0.5109 - val_loss: 3.1173 - val_accuracy: 0.2402 - val_top_5_accuracy: 0.5451\n",
      "Epoch 8/100\n",
      "781/781 [==============================] - 25s 32ms/step - loss: 3.0749 - accuracy: 0.2360 - top_5_accuracy: 0.5415 - val_loss: 3.1479 - val_accuracy: 0.2628 - val_top_5_accuracy: 0.5599\n",
      "Epoch 9/100\n",
      "781/781 [==============================] - 25s 32ms/step - loss: 2.9782 - accuracy: 0.2555 - top_5_accuracy: 0.5606 - val_loss: 2.9285 - val_accuracy: 0.2700 - val_top_5_accuracy: 0.5805\n",
      "Epoch 10/100\n",
      "781/781 [==============================] - 25s 32ms/step - loss: 2.8708 - accuracy: 0.2753 - top_5_accuracy: 0.5850 - val_loss: 2.9098 - val_accuracy: 0.2702 - val_top_5_accuracy: 0.5751\n",
      "Epoch 11/100\n",
      "781/781 [==============================] - 25s 32ms/step - loss: 2.8617 - accuracy: 0.2779 - top_5_accuracy: 0.5893 - val_loss: 2.7626 - val_accuracy: 0.3035 - val_top_5_accuracy: 0.6154\n",
      "Epoch 12/100\n",
      "781/781 [==============================] - 25s 32ms/step - loss: 2.7535 - accuracy: 0.2996 - top_5_accuracy: 0.6122 - val_loss: 2.7515 - val_accuracy: 0.3089 - val_top_5_accuracy: 0.6179\n",
      "Epoch 13/100\n",
      "781/781 [==============================] - 25s 32ms/step - loss: 2.6736 - accuracy: 0.3149 - top_5_accuracy: 0.6324 - val_loss: 2.7174 - val_accuracy: 0.3141 - val_top_5_accuracy: 0.6227\n",
      "Epoch 14/100\n",
      "781/781 [==============================] - 25s 32ms/step - loss: 2.7244 - accuracy: 0.3079 - top_5_accuracy: 0.6200 - val_loss: 3.2238 - val_accuracy: 0.2225 - val_top_5_accuracy: 0.4991\n",
      "Epoch 15/100\n",
      "781/781 [==============================] - 25s 32ms/step - loss: 2.8297 - accuracy: 0.2859 - top_5_accuracy: 0.5933 - val_loss: 2.8161 - val_accuracy: 0.3071 - val_top_5_accuracy: 0.6068\n",
      "Epoch 16/100\n",
      "781/781 [==============================] - 25s 32ms/step - loss: 2.8314 - accuracy: 0.2854 - top_5_accuracy: 0.5924 - val_loss: 2.6908 - val_accuracy: 0.3148 - val_top_5_accuracy: 0.6248\n",
      "Epoch 17/100\n",
      "781/781 [==============================] - 25s 32ms/step - loss: 2.7104 - accuracy: 0.3074 - top_5_accuracy: 0.6203 - val_loss: 2.6615 - val_accuracy: 0.3294 - val_top_5_accuracy: 0.6369\n",
      "Epoch 18/100\n",
      "781/781 [==============================] - 25s 32ms/step - loss: 2.6284 - accuracy: 0.3234 - top_5_accuracy: 0.6383 - val_loss: 2.6896 - val_accuracy: 0.3219 - val_top_5_accuracy: 0.6238\n",
      "Epoch 19/100\n",
      "781/781 [==============================] - 25s 32ms/step - loss: 2.7306 - accuracy: 0.3086 - top_5_accuracy: 0.6149 - val_loss: 3.0998 - val_accuracy: 0.2499 - val_top_5_accuracy: 0.5394\n",
      "Epoch 20/100\n",
      "781/781 [==============================] - 25s 32ms/step - loss: 2.6738 - accuracy: 0.3155 - top_5_accuracy: 0.6291 - val_loss: 2.5859 - val_accuracy: 0.3486 - val_top_5_accuracy: 0.6519\n",
      "Epoch 21/100\n",
      "781/781 [==============================] - 25s 32ms/step - loss: 2.5385 - accuracy: 0.3414 - top_5_accuracy: 0.6629 - val_loss: 2.5531 - val_accuracy: 0.3432 - val_top_5_accuracy: 0.6572\n",
      "Epoch 22/100\n",
      "781/781 [==============================] - 25s 32ms/step - loss: 2.6154 - accuracy: 0.3282 - top_5_accuracy: 0.6431 - val_loss: 2.5028 - val_accuracy: 0.3565 - val_top_5_accuracy: 0.6683\n",
      "Epoch 23/100\n",
      "781/781 [==============================] - 25s 32ms/step - loss: 2.4389 - accuracy: 0.3634 - top_5_accuracy: 0.6833 - val_loss: 2.6700 - val_accuracy: 0.3403 - val_top_5_accuracy: 0.6444\n",
      "Epoch 24/100\n",
      "781/781 [==============================] - 25s 32ms/step - loss: 2.5097 - accuracy: 0.3491 - top_5_accuracy: 0.6684 - val_loss: 2.6703 - val_accuracy: 0.3320 - val_top_5_accuracy: 0.6342\n",
      "Epoch 25/100\n",
      "781/781 [==============================] - 25s 32ms/step - loss: 2.5496 - accuracy: 0.3392 - top_5_accuracy: 0.6594 - val_loss: 2.4625 - val_accuracy: 0.3644 - val_top_5_accuracy: 0.6702\n",
      "Epoch 26/100\n",
      "781/781 [==============================] - 25s 32ms/step - loss: 2.4291 - accuracy: 0.3644 - top_5_accuracy: 0.6860 - val_loss: 2.4582 - val_accuracy: 0.3615 - val_top_5_accuracy: 0.6781\n",
      "Epoch 27/100\n",
      "781/781 [==============================] - 25s 32ms/step - loss: 2.3200 - accuracy: 0.3889 - top_5_accuracy: 0.7102 - val_loss: 2.3932 - val_accuracy: 0.3781 - val_top_5_accuracy: 0.6909\n",
      "Epoch 28/100\n",
      "781/781 [==============================] - 25s 32ms/step - loss: 2.2718 - accuracy: 0.3949 - top_5_accuracy: 0.7202 - val_loss: 2.3884 - val_accuracy: 0.3755 - val_top_5_accuracy: 0.6939\n",
      "Epoch 29/100\n",
      "781/781 [==============================] - 25s 32ms/step - loss: 2.4886 - accuracy: 0.3528 - top_5_accuracy: 0.6730 - val_loss: 2.6004 - val_accuracy: 0.3450 - val_top_5_accuracy: 0.6456\n",
      "Epoch 30/100\n",
      "781/781 [==============================] - 25s 32ms/step - loss: 2.4443 - accuracy: 0.3591 - top_5_accuracy: 0.6818 - val_loss: 2.4357 - val_accuracy: 0.3699 - val_top_5_accuracy: 0.6883\n",
      "Epoch 31/100\n",
      "781/781 [==============================] - 25s 32ms/step - loss: 2.3183 - accuracy: 0.3899 - top_5_accuracy: 0.7090 - val_loss: 3.1118 - val_accuracy: 0.2624 - val_top_5_accuracy: 0.5639\n",
      "Epoch 32/100\n",
      "781/781 [==============================] - 25s 32ms/step - loss: 2.4232 - accuracy: 0.3690 - top_5_accuracy: 0.6847 - val_loss: 2.5927 - val_accuracy: 0.3406 - val_top_5_accuracy: 0.6459\n",
      "Epoch 33/100\n",
      "781/781 [==============================] - 25s 32ms/step - loss: 2.6694 - accuracy: 0.3165 - top_5_accuracy: 0.6311 - val_loss: 2.6384 - val_accuracy: 0.3361 - val_top_5_accuracy: 0.6311\n",
      "Epoch 34/100\n",
      "781/781 [==============================] - 25s 32ms/step - loss: 2.4791 - accuracy: 0.3537 - top_5_accuracy: 0.6705 - val_loss: 2.4966 - val_accuracy: 0.3684 - val_top_5_accuracy: 0.6762\n",
      "Epoch 35/100\n",
      "781/781 [==============================] - 25s 32ms/step - loss: 2.2844 - accuracy: 0.3939 - top_5_accuracy: 0.7136 - val_loss: 2.3977 - val_accuracy: 0.3804 - val_top_5_accuracy: 0.6947\n",
      "Epoch 36/100\n",
      "781/781 [==============================] - 25s 32ms/step - loss: 2.1899 - accuracy: 0.4164 - top_5_accuracy: 0.7336 - val_loss: 2.3893 - val_accuracy: 0.3891 - val_top_5_accuracy: 0.6940\n",
      "Epoch 37/100\n",
      "781/781 [==============================] - 25s 32ms/step - loss: 2.1294 - accuracy: 0.4284 - top_5_accuracy: 0.7455 - val_loss: 2.4518 - val_accuracy: 0.3949 - val_top_5_accuracy: 0.6958\n",
      "Epoch 38/100\n",
      "781/781 [==============================] - 25s 32ms/step - loss: 2.0804 - accuracy: 0.4376 - top_5_accuracy: 0.7565 - val_loss: 2.5894 - val_accuracy: 0.3862 - val_top_5_accuracy: 0.6931\n",
      "Epoch 39/100\n",
      "781/781 [==============================] - 25s 32ms/step - loss: 2.4129 - accuracy: 0.3698 - top_5_accuracy: 0.6900 - val_loss: 2.4016 - val_accuracy: 0.3826 - val_top_5_accuracy: 0.6894\n",
      "Epoch 40/100\n",
      "781/781 [==============================] - 25s 32ms/step - loss: 2.1958 - accuracy: 0.4114 - top_5_accuracy: 0.7355 - val_loss: 2.4151 - val_accuracy: 0.3861 - val_top_5_accuracy: 0.6911\n",
      "Epoch 41/100\n",
      "781/781 [==============================] - 25s 32ms/step - loss: 2.0883 - accuracy: 0.4359 - top_5_accuracy: 0.7558 - val_loss: 2.3553 - val_accuracy: 0.3982 - val_top_5_accuracy: 0.7037\n",
      "Epoch 42/100\n",
      "781/781 [==============================] - 25s 32ms/step - loss: 2.1480 - accuracy: 0.4226 - top_5_accuracy: 0.7439 - val_loss: 2.3793 - val_accuracy: 0.3948 - val_top_5_accuracy: 0.7030\n",
      "Epoch 43/100\n",
      "781/781 [==============================] - 25s 32ms/step - loss: 2.1046 - accuracy: 0.4318 - top_5_accuracy: 0.7541 - val_loss: 2.3803 - val_accuracy: 0.3988 - val_top_5_accuracy: 0.7044\n",
      "Epoch 44/100\n",
      "781/781 [==============================] - 25s 32ms/step - loss: 2.0153 - accuracy: 0.4524 - top_5_accuracy: 0.7707 - val_loss: 2.3364 - val_accuracy: 0.4047 - val_top_5_accuracy: 0.7125\n",
      "Epoch 45/100\n",
      "781/781 [==============================] - 25s 32ms/step - loss: 2.2733 - accuracy: 0.3978 - top_5_accuracy: 0.7184 - val_loss: 2.3475 - val_accuracy: 0.3975 - val_top_5_accuracy: 0.7013\n",
      "Epoch 46/100\n",
      "781/781 [==============================] - 25s 32ms/step - loss: 2.2016 - accuracy: 0.4141 - top_5_accuracy: 0.7331 - val_loss: 2.5268 - val_accuracy: 0.3672 - val_top_5_accuracy: 0.6677\n",
      "Epoch 47/100\n",
      "781/781 [==============================] - 25s 32ms/step - loss: 2.1481 - accuracy: 0.4247 - top_5_accuracy: 0.7419 - val_loss: 2.3801 - val_accuracy: 0.3952 - val_top_5_accuracy: 0.7030\n",
      "Epoch 48/100\n",
      "781/781 [==============================] - 25s 32ms/step - loss: 2.1199 - accuracy: 0.4288 - top_5_accuracy: 0.7520 - val_loss: 2.4328 - val_accuracy: 0.3815 - val_top_5_accuracy: 0.6931\n",
      "Epoch 49/100\n",
      "781/781 [==============================] - 25s 32ms/step - loss: 2.2466 - accuracy: 0.4021 - top_5_accuracy: 0.7245 - val_loss: 2.3328 - val_accuracy: 0.4000 - val_top_5_accuracy: 0.7053\n",
      "Epoch 50/100\n",
      "781/781 [==============================] - 25s 32ms/step - loss: 2.0299 - accuracy: 0.4462 - top_5_accuracy: 0.7705 - val_loss: 2.4391 - val_accuracy: 0.4079 - val_top_5_accuracy: 0.7160\n",
      "Epoch 51/100\n",
      "781/781 [==============================] - 25s 32ms/step - loss: 1.9865 - accuracy: 0.4594 - top_5_accuracy: 0.7773 - val_loss: 2.3620 - val_accuracy: 0.4059 - val_top_5_accuracy: 0.7120\n",
      "Epoch 52/100\n",
      "781/781 [==============================] - 25s 32ms/step - loss: 1.9564 - accuracy: 0.4651 - top_5_accuracy: 0.7844 - val_loss: 2.3672 - val_accuracy: 0.4013 - val_top_5_accuracy: 0.7044\n",
      "Epoch 53/100\n",
      "781/781 [==============================] - 25s 32ms/step - loss: 2.0223 - accuracy: 0.4504 - top_5_accuracy: 0.7703 - val_loss: 2.3349 - val_accuracy: 0.4014 - val_top_5_accuracy: 0.7093\n",
      "Epoch 54/100\n",
      "781/781 [==============================] - 25s 32ms/step - loss: 2.0038 - accuracy: 0.4539 - top_5_accuracy: 0.7744 - val_loss: 2.3200 - val_accuracy: 0.4102 - val_top_5_accuracy: 0.7128\n",
      "Epoch 55/100\n",
      "781/781 [==============================] - 25s 32ms/step - loss: 2.0323 - accuracy: 0.4494 - top_5_accuracy: 0.7691 - val_loss: 2.3162 - val_accuracy: 0.4052 - val_top_5_accuracy: 0.7161\n",
      "Epoch 56/100\n",
      "781/781 [==============================] - 25s 32ms/step - loss: 1.9076 - accuracy: 0.4765 - top_5_accuracy: 0.7905 - val_loss: 2.3324 - val_accuracy: 0.4116 - val_top_5_accuracy: 0.7157\n",
      "Epoch 57/100\n",
      "781/781 [==============================] - 25s 32ms/step - loss: 1.9704 - accuracy: 0.4621 - top_5_accuracy: 0.7805 - val_loss: 2.3689 - val_accuracy: 0.4074 - val_top_5_accuracy: 0.7095\n",
      "Epoch 58/100\n",
      "781/781 [==============================] - 25s 32ms/step - loss: 1.8986 - accuracy: 0.4773 - top_5_accuracy: 0.7949 - val_loss: 2.6703 - val_accuracy: 0.3960 - val_top_5_accuracy: 0.7026\n",
      "Epoch 59/100\n",
      "781/781 [==============================] - 25s 32ms/step - loss: 1.9573 - accuracy: 0.4628 - top_5_accuracy: 0.7835 - val_loss: 3.3935 - val_accuracy: 0.2416 - val_top_5_accuracy: 0.5052\n",
      "Epoch 60/100\n",
      "781/781 [==============================] - 25s 32ms/step - loss: 1.9579 - accuracy: 0.4658 - top_5_accuracy: 0.7853 - val_loss: 2.4994 - val_accuracy: 0.4169 - val_top_5_accuracy: 0.7164\n",
      "Epoch 61/100\n",
      "781/781 [==============================] - 25s 32ms/step - loss: 1.7949 - accuracy: 0.5002 - top_5_accuracy: 0.8117 - val_loss: 2.2856 - val_accuracy: 0.4204 - val_top_5_accuracy: 0.7265\n",
      "Epoch 62/100\n",
      "781/781 [==============================] - 25s 32ms/step - loss: 1.7379 - accuracy: 0.5162 - top_5_accuracy: 0.8225 - val_loss: 2.3789 - val_accuracy: 0.4093 - val_top_5_accuracy: 0.7184\n",
      "Epoch 63/100\n",
      "781/781 [==============================] - 25s 32ms/step - loss: 1.7888 - accuracy: 0.5031 - top_5_accuracy: 0.8144 - val_loss: 2.6420 - val_accuracy: 0.4124 - val_top_5_accuracy: 0.7137\n",
      "Epoch 64/100\n",
      "781/781 [==============================] - 25s 32ms/step - loss: 1.7289 - accuracy: 0.5153 - top_5_accuracy: 0.8259 - val_loss: 2.3508 - val_accuracy: 0.4148 - val_top_5_accuracy: 0.7162\n",
      "Epoch 65/100\n",
      "781/781 [==============================] - 25s 32ms/step - loss: 1.9913 - accuracy: 0.4609 - top_5_accuracy: 0.7775 - val_loss: 2.4394 - val_accuracy: 0.3976 - val_top_5_accuracy: 0.7000\n",
      "Epoch 66/100\n",
      "781/781 [==============================] - 25s 32ms/step - loss: 1.7787 - accuracy: 0.5050 - top_5_accuracy: 0.8155 - val_loss: 2.3127 - val_accuracy: 0.4174 - val_top_5_accuracy: 0.7236\n",
      "Epoch 67/100\n",
      "781/781 [==============================] - 25s 32ms/step - loss: 1.6676 - accuracy: 0.5306 - top_5_accuracy: 0.8361 - val_loss: 2.3066 - val_accuracy: 0.4237 - val_top_5_accuracy: 0.7323\n",
      "Epoch 68/100\n",
      "781/781 [==============================] - 25s 32ms/step - loss: 1.6578 - accuracy: 0.5335 - top_5_accuracy: 0.8369 - val_loss: 2.3417 - val_accuracy: 0.4225 - val_top_5_accuracy: 0.7247\n",
      "Epoch 69/100\n",
      "781/781 [==============================] - 25s 32ms/step - loss: 1.6934 - accuracy: 0.5267 - top_5_accuracy: 0.8309 - val_loss: 3.1590 - val_accuracy: 0.2936 - val_top_5_accuracy: 0.5941\n",
      "Epoch 70/100\n",
      "781/781 [==============================] - 25s 32ms/step - loss: 1.7116 - accuracy: 0.5175 - top_5_accuracy: 0.8286 - val_loss: 2.3146 - val_accuracy: 0.4271 - val_top_5_accuracy: 0.7235\n",
      "Epoch 71/100\n",
      "781/781 [==============================] - 25s 32ms/step - loss: 1.5962 - accuracy: 0.5476 - top_5_accuracy: 0.8492 - val_loss: 2.4845 - val_accuracy: 0.4227 - val_top_5_accuracy: 0.7196\n",
      "Epoch 72/100\n",
      "781/781 [==============================] - 25s 32ms/step - loss: 1.5675 - accuracy: 0.5549 - top_5_accuracy: 0.8507 - val_loss: 2.3508 - val_accuracy: 0.4286 - val_top_5_accuracy: 0.7290\n",
      "Epoch 73/100\n",
      "781/781 [==============================] - 25s 32ms/step - loss: 1.5020 - accuracy: 0.5713 - top_5_accuracy: 0.8635 - val_loss: 2.4094 - val_accuracy: 0.4159 - val_top_5_accuracy: 0.7229\n",
      "Epoch 74/100\n",
      "781/781 [==============================] - 25s 32ms/step - loss: 1.4991 - accuracy: 0.5704 - top_5_accuracy: 0.8638 - val_loss: 2.4982 - val_accuracy: 0.4037 - val_top_5_accuracy: 0.7040\n",
      "Epoch 75/100\n",
      "781/781 [==============================] - 25s 32ms/step - loss: 1.5934 - accuracy: 0.5492 - top_5_accuracy: 0.8502 - val_loss: 2.3449 - val_accuracy: 0.4367 - val_top_5_accuracy: 0.7323\n",
      "Epoch 76/100\n",
      "781/781 [==============================] - 25s 32ms/step - loss: 1.5085 - accuracy: 0.5674 - top_5_accuracy: 0.8627 - val_loss: 2.4691 - val_accuracy: 0.4304 - val_top_5_accuracy: 0.7274\n",
      "Epoch 77/100\n",
      "781/781 [==============================] - 25s 32ms/step - loss: 1.6296 - accuracy: 0.5420 - top_5_accuracy: 0.8436 - val_loss: 2.3438 - val_accuracy: 0.4329 - val_top_5_accuracy: 0.7273\n",
      "Epoch 78/100\n",
      "781/781 [==============================] - 25s 32ms/step - loss: 1.4780 - accuracy: 0.5729 - top_5_accuracy: 0.8700 - val_loss: 2.5020 - val_accuracy: 0.4325 - val_top_5_accuracy: 0.7291\n",
      "Epoch 79/100\n",
      "781/781 [==============================] - 25s 32ms/step - loss: 1.5491 - accuracy: 0.5603 - top_5_accuracy: 0.8590 - val_loss: 2.6020 - val_accuracy: 0.4273 - val_top_5_accuracy: 0.7241\n",
      "Epoch 80/100\n",
      "781/781 [==============================] - 25s 32ms/step - loss: 1.4858 - accuracy: 0.5732 - top_5_accuracy: 0.8661 - val_loss: 2.3546 - val_accuracy: 0.4379 - val_top_5_accuracy: 0.7289\n",
      "Epoch 81/100\n",
      "557/781 [====================>.........] - ETA: 6s - loss: 1.4851 - accuracy: 0.5722 - top_5_accuracy: 0.8685"
     ]
    }
   ],
   "source": [
    "startTime = time.time()\n",
    "\n",
    "model.fit(trainDS,\n",
    "          epochs=NUM_EPOCHS,\n",
    "          steps_per_epoch=TRAIN_STEPS,\n",
    "          initial_epoch=0,\n",
    "          callbacks=callbacks,\n",
    "          validation_data=valDS,\n",
    "          validation_steps=VAL_STEPS,\n",
    "          validation_freq=1)\n",
    "\n",
    "endTime = time.time()\n",
    "\n",
    "elapsedTime = (endTime - startTime)/60.\n",
    "print(\"\\nTotal time for model training: {} minutes\".format(elapsedTime))"
   ]
  },
  {
   "cell_type": "markdown",
   "metadata": {},
   "source": [
    "## Save model"
   ]
  },
  {
   "cell_type": "code",
   "execution_count": null,
   "metadata": {},
   "outputs": [],
   "source": [
    "modelFile = os.path.join(modelsDir, 'model_densenet169.h5')\n",
    "\n",
    "model.save(modelFile)"
   ]
  },
  {
   "cell_type": "markdown",
   "metadata": {},
   "source": [
    "## Plot confusion matrix"
   ]
  },
  {
   "cell_type": "code",
   "execution_count": null,
   "metadata": {},
   "outputs": [],
   "source": [
    "from sklearn.metrics import confusion_matrix"
   ]
  },
  {
   "cell_type": "code",
   "execution_count": null,
   "metadata": {},
   "outputs": [],
   "source": [
    "def plot_confusion_matrix(y_true, y_pred, classes,\n",
    "                          normalize=False,\n",
    "                          title=None,\n",
    "                          cmap=plt.cm.Blues):\n",
    "    \"\"\"\n",
    "    This function prints and plots the confusion matrix.\n",
    "    Normalization can be applied by setting `normalize=True`.\n",
    "    \"\"\"\n",
    "    if not title:\n",
    "        if normalize:\n",
    "            title = 'Normalized confusion matrix'\n",
    "        else:\n",
    "            title = 'Confusion matrix, without normalization'\n",
    "\n",
    "    # Compute confusion matrix\n",
    "    cm = confusion_matrix(y_true, y_pred)\n",
    "    if normalize:\n",
    "        cm = cm.astype('float') / cm.sum(axis=1)[:, np.newaxis]\n",
    "        print(\"Normalized confusion matrix\")\n",
    "    else:\n",
    "        print('Confusion matrix, without normalization')\n",
    "\n",
    "#     print(cm)\n",
    "\n",
    "    fig, ax = plt.subplots(figsize=(16,16))\n",
    "    im = ax.imshow(cm, interpolation='nearest', cmap=cmap)\n",
    "    ax.figure.colorbar(im, ax=ax)\n",
    "    # We want to show all ticks...\n",
    "    ax.set(xticks=np.arange(cm.shape[1]),\n",
    "           yticks=np.arange(cm.shape[0]),\n",
    "           # ... and label them with the respective list entries\n",
    "           xticklabels=classes, yticklabels=classes,\n",
    "           title=title,\n",
    "           ylabel='True label',\n",
    "           xlabel='Predicted label')\n",
    "\n",
    "    # Rotate the tick labels and set their alignment.\n",
    "    plt.setp(ax.get_xticklabels(), rotation=45, ha=\"right\",\n",
    "             rotation_mode=\"anchor\")\n",
    "    '''\n",
    "    # Loop over data dimensions and create text annotations.\n",
    "    fmt = '.2f' if normalize else 'd'\n",
    "    thresh = cm.max() / 2.\n",
    "    for i in range(cm.shape[0]):\n",
    "        for j in range(cm.shape[1]):\n",
    "            ax.text(j, i, format(cm[i, j], fmt),\n",
    "                    ha=\"center\", va=\"center\",\n",
    "                    color=\"white\" if cm[i, j] > thresh else \"black\")\n",
    "    '''\n",
    "    fig.tight_layout()\n",
    "    return ax\n",
    "\n",
    "\n",
    "np.set_printoptions(precision=2)"
   ]
  },
  {
   "cell_type": "code",
   "execution_count": null,
   "metadata": {},
   "outputs": [],
   "source": [
    "y_pred=np.argmax(model.predict(testX), axis=1)\n",
    "y_true=np.argmax(testY, axis=1)\n",
    "\n",
    "#Compute the confusion matrix\n",
    "confusion_mtx=confusion_matrix(y_true,y_pred)"
   ]
  },
  {
   "cell_type": "code",
   "execution_count": null,
   "metadata": {},
   "outputs": [],
   "source": [
    "# Plot non-normalized confusion matrix\n",
    "plot_confusion_matrix(y_true, y_pred, classes=CLASS_NAMES,\n",
    "                      title='Confusion matrix, without normalization')"
   ]
  },
  {
   "cell_type": "code",
   "execution_count": null,
   "metadata": {},
   "outputs": [],
   "source": []
  }
 ],
 "metadata": {
  "accelerator": "GPU",
  "colab": {
   "collapsed_sections": [],
   "name": "Fully_Supervised_Training_IMGNET_subset_Adam.ipynb",
   "provenance": []
  },
  "kernelspec": {
   "display_name": "TensorFlow",
   "language": "python",
   "name": "tf2"
  },
  "language_info": {
   "codemirror_mode": {
    "name": "ipython",
    "version": 3
   },
   "file_extension": ".py",
   "mimetype": "text/x-python",
   "name": "python",
   "nbconvert_exporter": "python",
   "pygments_lexer": "ipython3",
   "version": "3.7.7"
  },
  "widgets": {
   "application/vnd.jupyter.widget-state+json": {
    "05b5252d8859432c8724c8fb9636ef33": {
     "model_module": "@jupyter-widgets/controls",
     "model_name": "ProgressStyleModel",
     "state": {
      "_model_module": "@jupyter-widgets/controls",
      "_model_module_version": "1.5.0",
      "_model_name": "ProgressStyleModel",
      "_view_count": null,
      "_view_module": "@jupyter-widgets/base",
      "_view_module_version": "1.2.0",
      "_view_name": "StyleView",
      "bar_color": null,
      "description_width": "initial"
     }
    },
    "126f1d14800843aa9332f00aead8395b": {
     "model_module": "@jupyter-widgets/base",
     "model_name": "LayoutModel",
     "state": {
      "_model_module": "@jupyter-widgets/base",
      "_model_module_version": "1.2.0",
      "_model_name": "LayoutModel",
      "_view_count": null,
      "_view_module": "@jupyter-widgets/base",
      "_view_module_version": "1.2.0",
      "_view_name": "LayoutView",
      "align_content": null,
      "align_items": null,
      "align_self": null,
      "border": null,
      "bottom": null,
      "display": null,
      "flex": null,
      "flex_flow": null,
      "grid_area": null,
      "grid_auto_columns": null,
      "grid_auto_flow": null,
      "grid_auto_rows": null,
      "grid_column": null,
      "grid_gap": null,
      "grid_row": null,
      "grid_template_areas": null,
      "grid_template_columns": null,
      "grid_template_rows": null,
      "height": null,
      "justify_content": null,
      "justify_items": null,
      "left": null,
      "margin": null,
      "max_height": null,
      "max_width": null,
      "min_height": null,
      "min_width": null,
      "object_fit": null,
      "object_position": null,
      "order": null,
      "overflow": null,
      "overflow_x": null,
      "overflow_y": null,
      "padding": null,
      "right": null,
      "top": null,
      "visibility": null,
      "width": null
     }
    },
    "2a8b0bfc58804efea484cd4cd71dd00f": {
     "model_module": "@jupyter-widgets/controls",
     "model_name": "HBoxModel",
     "state": {
      "_dom_classes": [],
      "_model_module": "@jupyter-widgets/controls",
      "_model_module_version": "1.5.0",
      "_model_name": "HBoxModel",
      "_view_count": null,
      "_view_module": "@jupyter-widgets/controls",
      "_view_module_version": "1.5.0",
      "_view_name": "HBoxView",
      "box_style": "",
      "children": [
       "IPY_MODEL_805d93bf8f4446d3871cd93392101584",
       "IPY_MODEL_33d042e9035942359936f5d4bd6a108a"
      ],
      "layout": "IPY_MODEL_126f1d14800843aa9332f00aead8395b"
     }
    },
    "2d671cb0ab744e509c98e0d1b2fcac17": {
     "model_module": "@jupyter-widgets/base",
     "model_name": "LayoutModel",
     "state": {
      "_model_module": "@jupyter-widgets/base",
      "_model_module_version": "1.2.0",
      "_model_name": "LayoutModel",
      "_view_count": null,
      "_view_module": "@jupyter-widgets/base",
      "_view_module_version": "1.2.0",
      "_view_name": "LayoutView",
      "align_content": null,
      "align_items": null,
      "align_self": null,
      "border": null,
      "bottom": null,
      "display": null,
      "flex": null,
      "flex_flow": null,
      "grid_area": null,
      "grid_auto_columns": null,
      "grid_auto_flow": null,
      "grid_auto_rows": null,
      "grid_column": null,
      "grid_gap": null,
      "grid_row": null,
      "grid_template_areas": null,
      "grid_template_columns": null,
      "grid_template_rows": null,
      "height": null,
      "justify_content": null,
      "justify_items": null,
      "left": null,
      "margin": null,
      "max_height": null,
      "max_width": null,
      "min_height": null,
      "min_width": null,
      "object_fit": null,
      "object_position": null,
      "order": null,
      "overflow": null,
      "overflow_x": null,
      "overflow_y": null,
      "padding": null,
      "right": null,
      "top": null,
      "visibility": null,
      "width": null
     }
    },
    "33d042e9035942359936f5d4bd6a108a": {
     "model_module": "@jupyter-widgets/controls",
     "model_name": "HTMLModel",
     "state": {
      "_dom_classes": [],
      "_model_module": "@jupyter-widgets/controls",
      "_model_module_version": "1.5.0",
      "_model_name": "HTMLModel",
      "_view_count": null,
      "_view_module": "@jupyter-widgets/controls",
      "_view_module_version": "1.5.0",
      "_view_name": "HTMLView",
      "description": "",
      "description_tooltip": null,
      "layout": "IPY_MODEL_fe2c9cb4e208436db3c15d342f8d08e7",
      "placeholder": "​",
      "style": "IPY_MODEL_eb72220a381347d1bce57c5706554460",
      "value": " 1250/1250 [00:06&lt;00:00, 187.65it/s]"
     }
    },
    "3862f5cde98f49f783d8fc54ada40a11": {
     "model_module": "@jupyter-widgets/controls",
     "model_name": "HTMLModel",
     "state": {
      "_dom_classes": [],
      "_model_module": "@jupyter-widgets/controls",
      "_model_module_version": "1.5.0",
      "_model_name": "HTMLModel",
      "_view_count": null,
      "_view_module": "@jupyter-widgets/controls",
      "_view_module_version": "1.5.0",
      "_view_name": "HTMLView",
      "description": "",
      "description_tooltip": null,
      "layout": "IPY_MODEL_8c382843a4f9475fb1a084b08ea0a7ae",
      "placeholder": "​",
      "style": "IPY_MODEL_79ff0547109643e8b8002a9bf1e6ebcc",
      "value": " 250/250 [00:01&lt;00:00, 221.46it/s]"
     }
    },
    "7683c42a14e14250bf6e375a42028b87": {
     "model_module": "@jupyter-widgets/base",
     "model_name": "LayoutModel",
     "state": {
      "_model_module": "@jupyter-widgets/base",
      "_model_module_version": "1.2.0",
      "_model_name": "LayoutModel",
      "_view_count": null,
      "_view_module": "@jupyter-widgets/base",
      "_view_module_version": "1.2.0",
      "_view_name": "LayoutView",
      "align_content": null,
      "align_items": null,
      "align_self": null,
      "border": null,
      "bottom": null,
      "display": null,
      "flex": null,
      "flex_flow": null,
      "grid_area": null,
      "grid_auto_columns": null,
      "grid_auto_flow": null,
      "grid_auto_rows": null,
      "grid_column": null,
      "grid_gap": null,
      "grid_row": null,
      "grid_template_areas": null,
      "grid_template_columns": null,
      "grid_template_rows": null,
      "height": null,
      "justify_content": null,
      "justify_items": null,
      "left": null,
      "margin": null,
      "max_height": null,
      "max_width": null,
      "min_height": null,
      "min_width": null,
      "object_fit": null,
      "object_position": null,
      "order": null,
      "overflow": null,
      "overflow_x": null,
      "overflow_y": null,
      "padding": null,
      "right": null,
      "top": null,
      "visibility": null,
      "width": null
     }
    },
    "77179de1c044473abb9da855d5ab8eca": {
     "model_module": "@jupyter-widgets/base",
     "model_name": "LayoutModel",
     "state": {
      "_model_module": "@jupyter-widgets/base",
      "_model_module_version": "1.2.0",
      "_model_name": "LayoutModel",
      "_view_count": null,
      "_view_module": "@jupyter-widgets/base",
      "_view_module_version": "1.2.0",
      "_view_name": "LayoutView",
      "align_content": null,
      "align_items": null,
      "align_self": null,
      "border": null,
      "bottom": null,
      "display": null,
      "flex": null,
      "flex_flow": null,
      "grid_area": null,
      "grid_auto_columns": null,
      "grid_auto_flow": null,
      "grid_auto_rows": null,
      "grid_column": null,
      "grid_gap": null,
      "grid_row": null,
      "grid_template_areas": null,
      "grid_template_columns": null,
      "grid_template_rows": null,
      "height": null,
      "justify_content": null,
      "justify_items": null,
      "left": null,
      "margin": null,
      "max_height": null,
      "max_width": null,
      "min_height": null,
      "min_width": null,
      "object_fit": null,
      "object_position": null,
      "order": null,
      "overflow": null,
      "overflow_x": null,
      "overflow_y": null,
      "padding": null,
      "right": null,
      "top": null,
      "visibility": null,
      "width": null
     }
    },
    "79ff0547109643e8b8002a9bf1e6ebcc": {
     "model_module": "@jupyter-widgets/controls",
     "model_name": "DescriptionStyleModel",
     "state": {
      "_model_module": "@jupyter-widgets/controls",
      "_model_module_version": "1.5.0",
      "_model_name": "DescriptionStyleModel",
      "_view_count": null,
      "_view_module": "@jupyter-widgets/base",
      "_view_module_version": "1.2.0",
      "_view_name": "StyleView",
      "description_width": ""
     }
    },
    "805d93bf8f4446d3871cd93392101584": {
     "model_module": "@jupyter-widgets/controls",
     "model_name": "FloatProgressModel",
     "state": {
      "_dom_classes": [],
      "_model_module": "@jupyter-widgets/controls",
      "_model_module_version": "1.5.0",
      "_model_name": "FloatProgressModel",
      "_view_count": null,
      "_view_module": "@jupyter-widgets/controls",
      "_view_module_version": "1.5.0",
      "_view_name": "ProgressView",
      "bar_style": "success",
      "description": "100%",
      "description_tooltip": null,
      "layout": "IPY_MODEL_77179de1c044473abb9da855d5ab8eca",
      "max": 1250,
      "min": 0,
      "orientation": "horizontal",
      "style": "IPY_MODEL_05b5252d8859432c8724c8fb9636ef33",
      "value": 1250
     }
    },
    "8c382843a4f9475fb1a084b08ea0a7ae": {
     "model_module": "@jupyter-widgets/base",
     "model_name": "LayoutModel",
     "state": {
      "_model_module": "@jupyter-widgets/base",
      "_model_module_version": "1.2.0",
      "_model_name": "LayoutModel",
      "_view_count": null,
      "_view_module": "@jupyter-widgets/base",
      "_view_module_version": "1.2.0",
      "_view_name": "LayoutView",
      "align_content": null,
      "align_items": null,
      "align_self": null,
      "border": null,
      "bottom": null,
      "display": null,
      "flex": null,
      "flex_flow": null,
      "grid_area": null,
      "grid_auto_columns": null,
      "grid_auto_flow": null,
      "grid_auto_rows": null,
      "grid_column": null,
      "grid_gap": null,
      "grid_row": null,
      "grid_template_areas": null,
      "grid_template_columns": null,
      "grid_template_rows": null,
      "height": null,
      "justify_content": null,
      "justify_items": null,
      "left": null,
      "margin": null,
      "max_height": null,
      "max_width": null,
      "min_height": null,
      "min_width": null,
      "object_fit": null,
      "object_position": null,
      "order": null,
      "overflow": null,
      "overflow_x": null,
      "overflow_y": null,
      "padding": null,
      "right": null,
      "top": null,
      "visibility": null,
      "width": null
     }
    },
    "aac930db883d4977a9f3f08b1a0fa7a5": {
     "model_module": "@jupyter-widgets/controls",
     "model_name": "FloatProgressModel",
     "state": {
      "_dom_classes": [],
      "_model_module": "@jupyter-widgets/controls",
      "_model_module_version": "1.5.0",
      "_model_name": "FloatProgressModel",
      "_view_count": null,
      "_view_module": "@jupyter-widgets/controls",
      "_view_module_version": "1.5.0",
      "_view_name": "ProgressView",
      "bar_style": "success",
      "description": "100%",
      "description_tooltip": null,
      "layout": "IPY_MODEL_2d671cb0ab744e509c98e0d1b2fcac17",
      "max": 250,
      "min": 0,
      "orientation": "horizontal",
      "style": "IPY_MODEL_e9b5eef0caa148a8aaaa2ed576fe68cc",
      "value": 250
     }
    },
    "c7e81694439c41408bb1090cb82cd2b1": {
     "model_module": "@jupyter-widgets/controls",
     "model_name": "HBoxModel",
     "state": {
      "_dom_classes": [],
      "_model_module": "@jupyter-widgets/controls",
      "_model_module_version": "1.5.0",
      "_model_name": "HBoxModel",
      "_view_count": null,
      "_view_module": "@jupyter-widgets/controls",
      "_view_module_version": "1.5.0",
      "_view_name": "HBoxView",
      "box_style": "",
      "children": [
       "IPY_MODEL_aac930db883d4977a9f3f08b1a0fa7a5",
       "IPY_MODEL_3862f5cde98f49f783d8fc54ada40a11"
      ],
      "layout": "IPY_MODEL_7683c42a14e14250bf6e375a42028b87"
     }
    },
    "e9b5eef0caa148a8aaaa2ed576fe68cc": {
     "model_module": "@jupyter-widgets/controls",
     "model_name": "ProgressStyleModel",
     "state": {
      "_model_module": "@jupyter-widgets/controls",
      "_model_module_version": "1.5.0",
      "_model_name": "ProgressStyleModel",
      "_view_count": null,
      "_view_module": "@jupyter-widgets/base",
      "_view_module_version": "1.2.0",
      "_view_name": "StyleView",
      "bar_color": null,
      "description_width": "initial"
     }
    },
    "eb72220a381347d1bce57c5706554460": {
     "model_module": "@jupyter-widgets/controls",
     "model_name": "DescriptionStyleModel",
     "state": {
      "_model_module": "@jupyter-widgets/controls",
      "_model_module_version": "1.5.0",
      "_model_name": "DescriptionStyleModel",
      "_view_count": null,
      "_view_module": "@jupyter-widgets/base",
      "_view_module_version": "1.2.0",
      "_view_name": "StyleView",
      "description_width": ""
     }
    },
    "fe2c9cb4e208436db3c15d342f8d08e7": {
     "model_module": "@jupyter-widgets/base",
     "model_name": "LayoutModel",
     "state": {
      "_model_module": "@jupyter-widgets/base",
      "_model_module_version": "1.2.0",
      "_model_name": "LayoutModel",
      "_view_count": null,
      "_view_module": "@jupyter-widgets/base",
      "_view_module_version": "1.2.0",
      "_view_name": "LayoutView",
      "align_content": null,
      "align_items": null,
      "align_self": null,
      "border": null,
      "bottom": null,
      "display": null,
      "flex": null,
      "flex_flow": null,
      "grid_area": null,
      "grid_auto_columns": null,
      "grid_auto_flow": null,
      "grid_auto_rows": null,
      "grid_column": null,
      "grid_gap": null,
      "grid_row": null,
      "grid_template_areas": null,
      "grid_template_columns": null,
      "grid_template_rows": null,
      "height": null,
      "justify_content": null,
      "justify_items": null,
      "left": null,
      "margin": null,
      "max_height": null,
      "max_width": null,
      "min_height": null,
      "min_width": null,
      "object_fit": null,
      "object_position": null,
      "order": null,
      "overflow": null,
      "overflow_x": null,
      "overflow_y": null,
      "padding": null,
      "right": null,
      "top": null,
      "visibility": null,
      "width": null
     }
    }
   }
  }
 },
 "nbformat": 4,
 "nbformat_minor": 4
}
