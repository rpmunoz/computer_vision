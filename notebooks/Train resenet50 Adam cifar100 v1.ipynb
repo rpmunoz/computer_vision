{
 "cells": [
  {
   "cell_type": "markdown",
   "metadata": {
    "colab_type": "text",
    "id": "JuiT6O71HUAy"
   },
   "source": [
    "# Initial Setup"
   ]
  },
  {
   "cell_type": "code",
   "execution_count": 1,
   "metadata": {
    "colab": {
     "base_uri": "https://localhost:8080/",
     "height": 35
    },
    "colab_type": "code",
    "id": "FgWG4d-K3xRt",
    "outputId": "140af918-8fea-4aac-d44d-80191d1a2877"
   },
   "outputs": [
    {
     "name": "stdout",
     "output_type": "stream",
     "text": [
      "2.2.0\n"
     ]
    }
   ],
   "source": [
    "import os\n",
    "import numpy as np\n",
    "import datetime\n",
    "import time\n",
    "import pandas as pd\n",
    "import matplotlib.pyplot as plt\n",
    "from tqdm.notebook import tqdm\n",
    "\n",
    "import tensorflow as tf\n",
    "import tensorflow_addons as tfa\n",
    "from tensorflow import keras\n",
    "from tensorflow.keras import layers\n",
    "from tensorflow.python.util.tf_export import keras_export\n",
    "\n",
    "print(tf.__version__)"
   ]
  },
  {
   "cell_type": "code",
   "execution_count": 2,
   "metadata": {},
   "outputs": [
    {
     "name": "stdout",
     "output_type": "stream",
     "text": [
      "1 Physical GPUs, 1 Logical GPUs\n"
     ]
    }
   ],
   "source": [
    "gpus = tf.config.experimental.list_physical_devices('GPU')\n",
    "if gpus:\n",
    "  try:\n",
    "    # Currently, memory growth needs to be the same across GPUs\n",
    "    for gpu in gpus:\n",
    "      tf.config.experimental.set_memory_growth(gpu, True)\n",
    "    logical_gpus = tf.config.experimental.list_logical_devices('GPU')\n",
    "    print(len(gpus), \"Physical GPUs,\", len(logical_gpus), \"Logical GPUs\")\n",
    "  except RuntimeError as e:\n",
    "    # Memory growth must be set before GPUs have been initialized\n",
    "    print(e)"
   ]
  },
  {
   "cell_type": "markdown",
   "metadata": {
    "colab_type": "text",
    "id": "ebM6CaFsHcya"
   },
   "source": [
    "## Imagenet Subset "
   ]
  },
  {
   "cell_type": "code",
   "execution_count": 3,
   "metadata": {},
   "outputs": [],
   "source": [
    "dataDir = '/data/datasets/cifar100/raw'\n",
    "\n",
    "configDir = 'config'\n",
    "resultsDir = 'results'\n",
    "modelsDir = 'models/cifar100_resnet50_adam'\n",
    "logsDir = 'logs/cifar100_resnet50_adam'"
   ]
  },
  {
   "cell_type": "code",
   "execution_count": 4,
   "metadata": {},
   "outputs": [],
   "source": [
    "BATCH_SIZE = 128\n",
    "NUM_EPOCHS = 200\n",
    "AUTOTUNE = tf.data.experimental.AUTOTUNE\n",
    "\n",
    "NUM_CLASSES = 100\n",
    "IMG_HEIGHT = 32\n",
    "IMG_WIDTH = 32\n",
    "NUM_CHANNELS = 3\n",
    "IMG_SIZE = (IMG_HEIGHT, IMG_WIDTH)"
   ]
  },
  {
   "cell_type": "code",
   "execution_count": 5,
   "metadata": {},
   "outputs": [],
   "source": [
    "if not os.path.exists(configDir):\n",
    "  os.makedirs(configDir)\n",
    "\n",
    "if not os.path.exists(resultsDir):\n",
    "  os.makedirs(resultsDir)\n",
    "\n",
    "if not os.path.exists(modelsDir):\n",
    "  os.makedirs(modelsDir)\n",
    "        \n",
    "if not os.path.exists(logsDir):\n",
    "  os.makedirs(logsDir)"
   ]
  },
  {
   "cell_type": "code",
   "execution_count": 6,
   "metadata": {},
   "outputs": [],
   "source": [
    "def unpickle(file):\n",
    "    import pickle\n",
    "    with open(file, 'rb') as fo:\n",
    "        cifar_dict = pickle.load(fo, encoding='bytes')\n",
    "    return cifar_dict"
   ]
  },
  {
   "cell_type": "code",
   "execution_count": 7,
   "metadata": {},
   "outputs": [],
   "source": [
    "def show_batch(image_batch, label_batch):\n",
    "  plt.figure(figsize=(10,10))\n",
    "  for n in range(25):\n",
    "      ax = plt.subplot(5,5,n+1)\n",
    "      plt.imshow(image_batch[n])\n",
    "      plt.title(CLASS_NAMES[label_batch[n]==1][0].title())\n",
    "      plt.axis('off')\n"
   ]
  },
  {
   "cell_type": "code",
   "execution_count": 8,
   "metadata": {},
   "outputs": [],
   "source": [
    "def rotate_tf(image, angle):\n",
    "    angleRad = angle/180.*np.pi\n",
    "  \n",
    "    if image.shape.__len__() ==4:\n",
    "            \n",
    "        random_angles = tf.random.uniform(shape = (tf.shape(image)[0], ), minval = -angleRad, maxval = angleRad)\n",
    "    if image.shape.__len__() ==3:\n",
    "        random_angles = tf.random.uniform(shape = (), minval = -angleRad, maxval = angleRad)\n",
    "    \n",
    "    paddings = tf.constant([[int(IMG_HEIGHT/4), int(IMG_HEIGHT/4)], [int(IMG_WIDTH/4), int(IMG_WIDTH/4)], [0,0]])\n",
    "    img = tf.pad(image, paddings, \"SYMMETRIC\")\n",
    "    img = tfa.image.rotate(img, random_angles)\n",
    "    img = tf.image.resize_with_crop_or_pad(img, IMG_HEIGHT, IMG_WIDTH)\n",
    "\n",
    "    return img\n",
    "\n",
    "def augment(image, label):\n",
    "    #img = tf.image.rot90(image)\n",
    "    img = tf.image.flip_left_right(image)\n",
    "    img = rotate_tf(image, 20)\n",
    "    #img = tf.image.random_brightness(img, 0.05)\n",
    "    #img = tf.image.random_contrast(img, 0.9, 1.1)\n",
    "    img = tf.clip_by_value(img, 0.0, 1.0)\n",
    "    return (img, label)\n",
    "  \n",
    "def prepare_for_training(ds, cache=True, shuffle_buffer_size=1000):\n",
    "  # This is a small dataset, only load it once, and keep it in memory.\n",
    "  # use `.cache(filename)` to cache preprocessing work for datasets that don't\n",
    "  # fit in memory.\n",
    "  if cache:\n",
    "    if isinstance(cache, str):\n",
    "      ds = ds.cache(cache)\n",
    "    else:\n",
    "      ds = ds.cache()\n",
    "\n",
    "  ds = ds.shuffle(buffer_size=shuffle_buffer_size)\n",
    "\n",
    "  ds = ds.map(augment, num_parallel_calls=AUTOTUNE)\n",
    "              \n",
    "  # Repeat forever\n",
    "  #ds = ds.repeat()\n",
    "  \n",
    "  ds = ds.batch(BATCH_SIZE)\n",
    "\n",
    "  # `prefetch` lets the dataset fetch batches in the background while the model\n",
    "  # is training.\n",
    "  ds = ds.prefetch(buffer_size=AUTOTUNE)\n",
    "\n",
    "  return ds\n",
    "\n",
    "def prepare_for_validation(ds, cache=True, shuffle_buffer_size=1000):\n",
    "  # This is a small dataset, only load it once, and keep it in memory.\n",
    "  # use `.cache(filename)` to cache preprocessing work for datasets that don't\n",
    "  # fit in memory.\n",
    "  if cache:\n",
    "    if isinstance(cache, str):\n",
    "      ds = ds.cache(cache)\n",
    "    else:\n",
    "      ds = ds.cache()\n",
    "  \n",
    "  ds = ds.batch(BATCH_SIZE)\n",
    "\n",
    "  # `prefetch` lets the dataset fetch batches in the background while the model\n",
    "  # is training.\n",
    "  ds = ds.prefetch(buffer_size=AUTOTUNE)\n",
    "\n",
    "  return ds"
   ]
  },
  {
   "cell_type": "code",
   "execution_count": 9,
   "metadata": {},
   "outputs": [],
   "source": [
    "meta = unpickle(os.path.join(dataDir, 'meta'))\n",
    "train = unpickle(os.path.join(dataDir, 'train'))\n",
    "test = unpickle(os.path.join(dataDir, 'test'))"
   ]
  },
  {
   "cell_type": "code",
   "execution_count": 10,
   "metadata": {},
   "outputs": [],
   "source": [
    "classDF = pd.DataFrame(meta[b'fine_label_names'], columns = ['Classes'], dtype=str)\n",
    "CLASS_NAMES = np.array(classDF['Classes'])"
   ]
  },
  {
   "cell_type": "code",
   "execution_count": 12,
   "metadata": {},
   "outputs": [],
   "source": [
    "trainX = np.vstack(train[b\"data\"])\n",
    "trainX = trainX.reshape(len(trainX), NUM_CHANNELS, IMG_HEIGHT, IMG_WIDTH).transpose(0,2,3,1).astype(\"float32\")/255\n",
    "trainY = train[b'fine_labels']\n",
    "trainY = tf.one_hot(trainY, NUM_CLASSES)\n",
    "\n",
    "testX = np.vstack(test[b\"data\"])\n",
    "testX = testX.reshape(len(testX), NUM_CHANNELS, IMG_HEIGHT, IMG_WIDTH).transpose(0,2,3,1).astype(\"float32\")/255\n",
    "testY = test[b'fine_labels']\n",
    "testY = tf.one_hot(testY, NUM_CLASSES)"
   ]
  },
  {
   "cell_type": "code",
   "execution_count": 13,
   "metadata": {},
   "outputs": [
    {
     "name": "stdout",
     "output_type": "stream",
     "text": [
      "(50000, 32, 32, 3)\n",
      "(10000, 32, 32, 3)\n",
      "(50000, 100)\n",
      "(10000, 100)\n"
     ]
    }
   ],
   "source": [
    "print(trainX.shape)\n",
    "print(testX.shape)\n",
    "\n",
    "print(trainY.shape)\n",
    "print(testY.shape)"
   ]
  },
  {
   "cell_type": "code",
   "execution_count": 14,
   "metadata": {},
   "outputs": [],
   "source": [
    "trainLabelDS = tf.data.Dataset.from_tensor_slices((trainX, trainY))\n",
    "valLabelDS = tf.data.Dataset.from_tensor_slices((testX, testY))"
   ]
  },
  {
   "cell_type": "code",
   "execution_count": 15,
   "metadata": {},
   "outputs": [],
   "source": [
    "trainDS = prepare_for_training(trainLabelDS)\n",
    "valDS = prepare_for_validation(valLabelDS)"
   ]
  },
  {
   "cell_type": "code",
   "execution_count": 18,
   "metadata": {},
   "outputs": [
    {
     "data": {
      "image/png": "[encoded data removed]",
      "text/plain": [
       "<Figure size 720x720 with 25 Axes>"
      ]
     },
     "metadata": {
      "needs_background": "light"
     },
     "output_type": "display_data"
    }
   ],
   "source": [
    "image_batch, label_batch = next(iter(trainDS))\n",
    "show_batch(image_batch.numpy(), label_batch.numpy())"
   ]
  },
  {
   "cell_type": "markdown",
   "metadata": {},
   "source": [
    "## Create model"
   ]
  },
  {
   "cell_type": "code",
   "execution_count": 17,
   "metadata": {},
   "outputs": [
    {
     "data": {
      "image/png": "[encoded data removed]",
      "text/plain": [
       "<IPython.core.display.Image object>"
      ]
     },
     "execution_count": 17,
     "metadata": {},
     "output_type": "execute_result"
    }
   ],
   "source": [
    "modelDiagramFile = os.path.join(resultsDir, 'model_resnet50_imagenet.png')\n",
    "\n",
    "resnet50 = tf.keras.applications.ResNet50(weights=None, include_top=False)\n",
    "model = tf.keras.Sequential([resnet50, layers.GlobalAveragePooling2D(), layers.Dense(NUM_CLASSES, activation='softmax')])\n",
    "\n",
    "keras.utils.plot_model(model, to_file=modelDiagramFile, show_shapes=True)"
   ]
  },
  {
   "cell_type": "markdown",
   "metadata": {},
   "source": [
    "## Train model"
   ]
  },
  {
   "cell_type": "code",
   "execution_count": 19,
   "metadata": {},
   "outputs": [],
   "source": [
    "def lr_schedule(epoch):\n",
    "    \"\"\"Learning Rate Schedule\n",
    "\n",
    "    Learning rate is scheduled to be reduced after 80, 120, 160, 180 epochs.\n",
    "    Called automatically every epoch as part of callbacks during training.\n",
    "\n",
    "    # Arguments\n",
    "        epoch (int): The number of epochs\n",
    "\n",
    "    # Returns\n",
    "        lr (float32): learning rate\n",
    "    \"\"\"\n",
    "    lr = 1e-3\n",
    "    if epoch > 180:\n",
    "        lr *= 0.5e-3\n",
    "    elif epoch > 160:\n",
    "        lr *= 1e-3\n",
    "    elif epoch > 120:\n",
    "        lr *= 1e-2\n",
    "    elif epoch > 80:\n",
    "        lr *= 1e-1\n",
    "        \n",
    "    tf.summary.scalar('learning rate', data=lr, step=epoch)\n",
    "    print('Learning rate: ', lr)\n",
    "    return lr"
   ]
  },
  {
   "cell_type": "code",
   "execution_count": 21,
   "metadata": {},
   "outputs": [
    {
     "name": "stdout",
     "output_type": "stream",
     "text": [
      "Learning rate:  0.001\n"
     ]
    }
   ],
   "source": [
    "logsCheckDir = os.path.join(logsDir, datetime.datetime.now().strftime(\"%Y%m%d-%H%M%S\"))\n",
    "file_writer = tf.summary.create_file_writer(logsCheckDir + \"/metrics\")\n",
    "file_writer.set_as_default()\n",
    "\n",
    "tb_callback = keras.callbacks.TensorBoard(log_dir=logsCheckDir, histogram_freq=1)\n",
    "ck_callback = keras.callbacks.ModelCheckpoint(os.path.join(modelsDir, \"model_checkpoint_{epoch}.h5\"))\n",
    "lr_callback = keras.callbacks.LearningRateScheduler(lr_schedule)\n",
    "\n",
    "callbacks = [tb_callback, ck_callback, lr_callback]\n",
    "\n",
    "optimizer = tf.optimizers.Adam(learning_rate=lr_schedule(0))\n",
    "\n",
    "model.compile(optimizer=optimizer,\n",
    "              loss=\"categorical_crossentropy\",\n",
    "              metrics=[\"accuracy\"])"
   ]
  },
  {
   "cell_type": "code",
   "execution_count": null,
   "metadata": {},
   "outputs": [
    {
     "name": "stdout",
     "output_type": "stream",
     "text": [
      "Learning rate:  0.001\n",
      "Epoch 1/200\n",
      "391/391 [==============================] - 27s 69ms/step - loss: 4.4855 - accuracy: 0.0765 - val_loss: 4.5471 - val_accuracy: 0.0456 - lr: 0.0010\n",
      "Learning rate:  0.001\n",
      "Epoch 2/200\n",
      "391/391 [==============================] - 25s 65ms/step - loss: 3.8564 - accuracy: 0.1468 - val_loss: 4.2087 - val_accuracy: 0.1243 - lr: 0.0010\n",
      "Learning rate:  0.001\n",
      "Epoch 3/200\n",
      "391/391 [==============================] - 25s 65ms/step - loss: 3.5443 - accuracy: 0.1967 - val_loss: 19.0795 - val_accuracy: 0.0629 - lr: 0.0010\n",
      "Learning rate:  0.001\n",
      "Epoch 4/200\n",
      "391/391 [==============================] - 25s 64ms/step - loss: 3.6035 - accuracy: 0.1827 - val_loss: 43.2683 - val_accuracy: 0.1700 - lr: 0.0010\n",
      "Learning rate:  0.001\n",
      "Epoch 5/200\n",
      "391/391 [==============================] - 25s 64ms/step - loss: 3.5727 - accuracy: 0.1858 - val_loss: 4.8056 - val_accuracy: 0.1191 - lr: 0.0010\n",
      "Learning rate:  0.001\n",
      "Epoch 6/200\n",
      "391/391 [==============================] - 25s 65ms/step - loss: 3.3256 - accuracy: 0.2153 - val_loss: 5.0111 - val_accuracy: 0.0945 - lr: 0.0010\n",
      "Learning rate:  0.001\n",
      "Epoch 7/200\n",
      "391/391 [==============================] - 25s 64ms/step - loss: 3.1182 - accuracy: 0.2564 - val_loss: 5.9062 - val_accuracy: 0.1492 - lr: 0.0010\n",
      "Learning rate:  0.001\n",
      "Epoch 8/200\n",
      "391/391 [==============================] - 25s 64ms/step - loss: 3.1608 - accuracy: 0.2509 - val_loss: 3.5844 - val_accuracy: 0.1901 - lr: 0.0010\n",
      "Learning rate:  0.001\n",
      "Epoch 9/200\n",
      "391/391 [==============================] - 26s 66ms/step - loss: 4.0387 - accuracy: 0.1626 - val_loss: 22.0304 - val_accuracy: 0.0218 - lr: 0.0010\n",
      "Learning rate:  0.001\n",
      "Epoch 10/200\n",
      "391/391 [==============================] - 26s 66ms/step - loss: 3.8037 - accuracy: 0.1299 - val_loss: 4.5800 - val_accuracy: 0.1386 - lr: 0.0010\n",
      "Learning rate:  0.001\n",
      "Epoch 11/200\n",
      "391/391 [==============================] - 25s 65ms/step - loss: 3.4296 - accuracy: 0.1904 - val_loss: 3.4148 - val_accuracy: 0.1851 - lr: 0.0010\n",
      "Learning rate:  0.001\n",
      "Epoch 12/200\n",
      "391/391 [==============================] - 26s 65ms/step - loss: 3.1964 - accuracy: 0.2382 - val_loss: 3.3557 - val_accuracy: 0.2223 - lr: 0.0010\n",
      "Learning rate:  0.001\n",
      "Epoch 13/200\n",
      "391/391 [==============================] - 26s 65ms/step - loss: 3.0222 - accuracy: 0.2699 - val_loss: 3.1953 - val_accuracy: 0.2652 - lr: 0.0010\n",
      "Learning rate:  0.001\n",
      "Epoch 14/200\n",
      "391/391 [==============================] - 26s 66ms/step - loss: 2.9050 - accuracy: 0.2900 - val_loss: 6.6908 - val_accuracy: 0.2131 - lr: 0.0010\n",
      "Learning rate:  0.001\n",
      "Epoch 15/200\n",
      "391/391 [==============================] - 25s 65ms/step - loss: 3.0320 - accuracy: 0.2807 - val_loss: 4.0115 - val_accuracy: 0.1702 - lr: 0.0010\n",
      "Learning rate:  0.001\n",
      "Epoch 16/200\n",
      "391/391 [==============================] - 25s 64ms/step - loss: 3.4809 - accuracy: 0.2153 - val_loss: 3.6375 - val_accuracy: 0.2132 - lr: 0.0010\n",
      "Learning rate:  0.001\n",
      "Epoch 17/200\n",
      "391/391 [==============================] - 25s 64ms/step - loss: 3.0944 - accuracy: 0.2653 - val_loss: 12.4487 - val_accuracy: 0.0587 - lr: 0.0010\n",
      "Learning rate:  0.001\n",
      "Epoch 18/200\n",
      "391/391 [==============================] - 26s 65ms/step - loss: 3.0609 - accuracy: 0.2699 - val_loss: 3.1430 - val_accuracy: 0.2440 - lr: 0.0010\n",
      "Learning rate:  0.001\n",
      "Epoch 19/200\n",
      "391/391 [==============================] - 26s 65ms/step - loss: 2.6929 - accuracy: 0.3260 - val_loss: 3.0456 - val_accuracy: 0.2966 - lr: 0.0010\n",
      "Learning rate:  0.001\n",
      "Epoch 20/200\n",
      "391/391 [==============================] - 25s 65ms/step - loss: 2.4951 - accuracy: 0.3612 - val_loss: 2.9050 - val_accuracy: 0.2888 - lr: 0.0010\n",
      "Learning rate:  0.001\n",
      "Epoch 21/200\n",
      "391/391 [==============================] - 25s 64ms/step - loss: 2.5415 - accuracy: 0.3492 - val_loss: 2.8442 - val_accuracy: 0.3131 - lr: 0.0010\n",
      "Learning rate:  0.001\n",
      "Epoch 22/200\n",
      "391/391 [==============================] - 25s 64ms/step - loss: 2.2948 - accuracy: 0.4010 - val_loss: 3.7951 - val_accuracy: 0.2940 - lr: 0.0010\n",
      "Learning rate:  0.001\n",
      "Epoch 23/200\n",
      "391/391 [==============================] - 26s 65ms/step - loss: 2.2209 - accuracy: 0.4167 - val_loss: 2.8616 - val_accuracy: 0.3162 - lr: 0.0010\n",
      "Learning rate:  0.001\n",
      "Epoch 24/200\n",
      "391/391 [==============================] - 25s 65ms/step - loss: 2.0035 - accuracy: 0.4623 - val_loss: 2.8705 - val_accuracy: 0.3233 - lr: 0.0010\n",
      "Learning rate:  0.001\n",
      "Epoch 25/200\n",
      "391/391 [==============================] - 25s 65ms/step - loss: 1.9860 - accuracy: 0.4639 - val_loss: 3.0601 - val_accuracy: 0.2977 - lr: 0.0010\n",
      "Learning rate:  0.001\n",
      "Epoch 26/200\n",
      "391/391 [==============================] - 25s 65ms/step - loss: 1.7513 - accuracy: 0.5235 - val_loss: 5.8385 - val_accuracy: 0.2357 - lr: 0.0010\n",
      "Learning rate:  0.001\n",
      "Epoch 27/200\n",
      "391/391 [==============================] - 25s 64ms/step - loss: 1.5675 - accuracy: 0.5648 - val_loss: 3.2491 - val_accuracy: 0.3289 - lr: 0.0010\n",
      "Learning rate:  0.001\n",
      "Epoch 28/200\n",
      "391/391 [==============================] - 25s 65ms/step - loss: 1.4263 - accuracy: 0.5999 - val_loss: 3.3730 - val_accuracy: 0.3153 - lr: 0.0010\n",
      "Learning rate:  0.001\n",
      "Epoch 29/200\n",
      "391/391 [==============================] - 26s 65ms/step - loss: 1.3391 - accuracy: 0.6219 - val_loss: 21.5474 - val_accuracy: 0.2635 - lr: 0.0010\n",
      "Learning rate:  0.001\n",
      "Epoch 30/200\n",
      "391/391 [==============================] - 25s 65ms/step - loss: 1.0942 - accuracy: 0.6857 - val_loss: 3.2744 - val_accuracy: 0.3361 - lr: 0.0010\n",
      "Learning rate:  0.001\n",
      "Epoch 31/200\n",
      "391/391 [==============================] - 25s 65ms/step - loss: 0.9809 - accuracy: 0.7158 - val_loss: 3.3901 - val_accuracy: 0.3186 - lr: 0.0010\n",
      "Learning rate:  0.001\n",
      "Epoch 32/200\n",
      "391/391 [==============================] - 25s 64ms/step - loss: 0.8246 - accuracy: 0.7615 - val_loss: 3.4390 - val_accuracy: 0.3334 - lr: 0.0010\n",
      "Learning rate:  0.001\n",
      "Epoch 33/200\n",
      "391/391 [==============================] - 26s 65ms/step - loss: 0.6887 - accuracy: 0.7987 - val_loss: 3.8433 - val_accuracy: 0.3157 - lr: 0.0010\n",
      "Learning rate:  0.001\n",
      "Epoch 34/200\n",
      "282/391 [====================>.........] - ETA: 5s - loss: 0.5821 - accuracy: 0.8267"
     ]
    }
   ],
   "source": [
    "startTime = time.time()\n",
    "\n",
    "model.fit(trainDS,\n",
    "          epochs=NUM_EPOCHS,\n",
    "          callbacks=callbacks,\n",
    "          validation_data=valDS,\n",
    "          validation_freq=1)\n",
    "\n",
    "endTime = time.time()\n",
    "\n",
    "elapsedTime = (endTime - startTime)/60.\n",
    "print(\"\\nTotal time for model training: {} minutes\".format(elapsedTime))"
   ]
  },
  {
   "cell_type": "code",
   "execution_count": null,
   "metadata": {},
   "outputs": [],
   "source": []
  },
  {
   "cell_type": "code",
   "execution_count": null,
   "metadata": {},
   "outputs": [],
   "source": []
  }
 ],
 "metadata": {
  "accelerator": "GPU",
  "colab": {
   "collapsed_sections": [],
   "name": "Fully_Supervised_Training_IMGNET_subset_Adam.ipynb",
   "provenance": []
  },
  "kernelspec": {
   "display_name": "TensorFlow",
   "language": "python",
   "name": "tf2"
  },
  "language_info": {
   "codemirror_mode": {
    "name": "ipython",
    "version": 3
   },
   "file_extension": ".py",
   "mimetype": "text/x-python",
   "name": "python",
   "nbconvert_exporter": "python",
   "pygments_lexer": "ipython3",
   "version": "3.7.7"
  },
  "widgets": {
   "application/vnd.jupyter.widget-state+json": {
    "05b5252d8859432c8724c8fb9636ef33": {
     "model_module": "@jupyter-widgets/controls",
     "model_name": "ProgressStyleModel",
     "state": {
      "_model_module": "@jupyter-widgets/controls",
      "_model_module_version": "1.5.0",
      "_model_name": "ProgressStyleModel",
      "_view_count": null,
      "_view_module": "@jupyter-widgets/base",
      "_view_module_version": "1.2.0",
      "_view_name": "StyleView",
      "bar_color": null,
      "description_width": "initial"
     }
    },
    "126f1d14800843aa9332f00aead8395b": {
     "model_module": "@jupyter-widgets/base",
     "model_name": "LayoutModel",
     "state": {
      "_model_module": "@jupyter-widgets/base",
      "_model_module_version": "1.2.0",
      "_model_name": "LayoutModel",
      "_view_count": null,
      "_view_module": "@jupyter-widgets/base",
      "_view_module_version": "1.2.0",
      "_view_name": "LayoutView",
      "align_content": null,
      "align_items": null,
      "align_self": null,
      "border": null,
      "bottom": null,
      "display": null,
      "flex": null,
      "flex_flow": null,
      "grid_area": null,
      "grid_auto_columns": null,
      "grid_auto_flow": null,
      "grid_auto_rows": null,
      "grid_column": null,
      "grid_gap": null,
      "grid_row": null,
      "grid_template_areas": null,
      "grid_template_columns": null,
      "grid_template_rows": null,
      "height": null,
      "justify_content": null,
      "justify_items": null,
      "left": null,
      "margin": null,
      "max_height": null,
      "max_width": null,
      "min_height": null,
      "min_width": null,
      "object_fit": null,
      "object_position": null,
      "order": null,
      "overflow": null,
      "overflow_x": null,
      "overflow_y": null,
      "padding": null,
      "right": null,
      "top": null,
      "visibility": null,
      "width": null
     }
    },
    "2a8b0bfc58804efea484cd4cd71dd00f": {
     "model_module": "@jupyter-widgets/controls",
     "model_name": "HBoxModel",
     "state": {
      "_dom_classes": [],
      "_model_module": "@jupyter-widgets/controls",
      "_model_module_version": "1.5.0",
      "_model_name": "HBoxModel",
      "_view_count": null,
      "_view_module": "@jupyter-widgets/controls",
      "_view_module_version": "1.5.0",
      "_view_name": "HBoxView",
      "box_style": "",
      "children": [
       "IPY_MODEL_805d93bf8f4446d3871cd93392101584",
       "IPY_MODEL_33d042e9035942359936f5d4bd6a108a"
      ],
      "layout": "IPY_MODEL_126f1d14800843aa9332f00aead8395b"
     }
    },
    "2d671cb0ab744e509c98e0d1b2fcac17": {
     "model_module": "@jupyter-widgets/base",
     "model_name": "LayoutModel",
     "state": {
      "_model_module": "@jupyter-widgets/base",
      "_model_module_version": "1.2.0",
      "_model_name": "LayoutModel",
      "_view_count": null,
      "_view_module": "@jupyter-widgets/base",
      "_view_module_version": "1.2.0",
      "_view_name": "LayoutView",
      "align_content": null,
      "align_items": null,
      "align_self": null,
      "border": null,
      "bottom": null,
      "display": null,
      "flex": null,
      "flex_flow": null,
      "grid_area": null,
      "grid_auto_columns": null,
      "grid_auto_flow": null,
      "grid_auto_rows": null,
      "grid_column": null,
      "grid_gap": null,
      "grid_row": null,
      "grid_template_areas": null,
      "grid_template_columns": null,
      "grid_template_rows": null,
      "height": null,
      "justify_content": null,
      "justify_items": null,
      "left": null,
      "margin": null,
      "max_height": null,
      "max_width": null,
      "min_height": null,
      "min_width": null,
      "object_fit": null,
      "object_position": null,
      "order": null,
      "overflow": null,
      "overflow_x": null,
      "overflow_y": null,
      "padding": null,
      "right": null,
      "top": null,
      "visibility": null,
      "width": null
     }
    },
    "33d042e9035942359936f5d4bd6a108a": {
     "model_module": "@jupyter-widgets/controls",
     "model_name": "HTMLModel",
     "state": {
      "_dom_classes": [],
      "_model_module": "@jupyter-widgets/controls",
      "_model_module_version": "1.5.0",
      "_model_name": "HTMLModel",
      "_view_count": null,
      "_view_module": "@jupyter-widgets/controls",
      "_view_module_version": "1.5.0",
      "_view_name": "HTMLView",
      "description": "",
      "description_tooltip": null,
      "layout": "IPY_MODEL_fe2c9cb4e208436db3c15d342f8d08e7",
      "placeholder": "​",
      "style": "IPY_MODEL_eb72220a381347d1bce57c5706554460",
      "value": " 1250/1250 [00:06&lt;00:00, 187.65it/s]"
     }
    },
    "3862f5cde98f49f783d8fc54ada40a11": {
     "model_module": "@jupyter-widgets/controls",
     "model_name": "HTMLModel",
     "state": {
      "_dom_classes": [],
      "_model_module": "@jupyter-widgets/controls",
      "_model_module_version": "1.5.0",
      "_model_name": "HTMLModel",
      "_view_count": null,
      "_view_module": "@jupyter-widgets/controls",
      "_view_module_version": "1.5.0",
      "_view_name": "HTMLView",
      "description": "",
      "description_tooltip": null,
      "layout": "IPY_MODEL_8c382843a4f9475fb1a084b08ea0a7ae",
      "placeholder": "​",
      "style": "IPY_MODEL_79ff0547109643e8b8002a9bf1e6ebcc",
      "value": " 250/250 [00:01&lt;00:00, 221.46it/s]"
     }
    },
    "7683c42a14e14250bf6e375a42028b87": {
     "model_module": "@jupyter-widgets/base",
     "model_name": "LayoutModel",
     "state": {
      "_model_module": "@jupyter-widgets/base",
      "_model_module_version": "1.2.0",
      "_model_name": "LayoutModel",
      "_view_count": null,
      "_view_module": "@jupyter-widgets/base",
      "_view_module_version": "1.2.0",
      "_view_name": "LayoutView",
      "align_content": null,
      "align_items": null,
      "align_self": null,
      "border": null,
      "bottom": null,
      "display": null,
      "flex": null,
      "flex_flow": null,
      "grid_area": null,
      "grid_auto_columns": null,
      "grid_auto_flow": null,
      "grid_auto_rows": null,
      "grid_column": null,
      "grid_gap": null,
      "grid_row": null,
      "grid_template_areas": null,
      "grid_template_columns": null,
      "grid_template_rows": null,
      "height": null,
      "justify_content": null,
      "justify_items": null,
      "left": null,
      "margin": null,
      "max_height": null,
      "max_width": null,
      "min_height": null,
      "min_width": null,
      "object_fit": null,
      "object_position": null,
      "order": null,
      "overflow": null,
      "overflow_x": null,
      "overflow_y": null,
      "padding": null,
      "right": null,
      "top": null,
      "visibility": null,
      "width": null
     }
    },
    "77179de1c044473abb9da855d5ab8eca": {
     "model_module": "@jupyter-widgets/base",
     "model_name": "LayoutModel",
     "state": {
      "_model_module": "@jupyter-widgets/base",
      "_model_module_version": "1.2.0",
      "_model_name": "LayoutModel",
      "_view_count": null,
      "_view_module": "@jupyter-widgets/base",
      "_view_module_version": "1.2.0",
      "_view_name": "LayoutView",
      "align_content": null,
      "align_items": null,
      "align_self": null,
      "border": null,
      "bottom": null,
      "display": null,
      "flex": null,
      "flex_flow": null,
      "grid_area": null,
      "grid_auto_columns": null,
      "grid_auto_flow": null,
      "grid_auto_rows": null,
      "grid_column": null,
      "grid_gap": null,
      "grid_row": null,
      "grid_template_areas": null,
      "grid_template_columns": null,
      "grid_template_rows": null,
      "height": null,
      "justify_content": null,
      "justify_items": null,
      "left": null,
      "margin": null,
      "max_height": null,
      "max_width": null,
      "min_height": null,
      "min_width": null,
      "object_fit": null,
      "object_position": null,
      "order": null,
      "overflow": null,
      "overflow_x": null,
      "overflow_y": null,
      "padding": null,
      "right": null,
      "top": null,
      "visibility": null,
      "width": null
     }
    },
    "79ff0547109643e8b8002a9bf1e6ebcc": {
     "model_module": "@jupyter-widgets/controls",
     "model_name": "DescriptionStyleModel",
     "state": {
      "_model_module": "@jupyter-widgets/controls",
      "_model_module_version": "1.5.0",
      "_model_name": "DescriptionStyleModel",
      "_view_count": null,
      "_view_module": "@jupyter-widgets/base",
      "_view_module_version": "1.2.0",
      "_view_name": "StyleView",
      "description_width": ""
     }
    },
    "805d93bf8f4446d3871cd93392101584": {
     "model_module": "@jupyter-widgets/controls",
     "model_name": "FloatProgressModel",
     "state": {
      "_dom_classes": [],
      "_model_module": "@jupyter-widgets/controls",
      "_model_module_version": "1.5.0",
      "_model_name": "FloatProgressModel",
      "_view_count": null,
      "_view_module": "@jupyter-widgets/controls",
      "_view_module_version": "1.5.0",
      "_view_name": "ProgressView",
      "bar_style": "success",
      "description": "100%",
      "description_tooltip": null,
      "layout": "IPY_MODEL_77179de1c044473abb9da855d5ab8eca",
      "max": 1250,
      "min": 0,
      "orientation": "horizontal",
      "style": "IPY_MODEL_05b5252d8859432c8724c8fb9636ef33",
      "value": 1250
     }
    },
    "8c382843a4f9475fb1a084b08ea0a7ae": {
     "model_module": "@jupyter-widgets/base",
     "model_name": "LayoutModel",
     "state": {
      "_model_module": "@jupyter-widgets/base",
      "_model_module_version": "1.2.0",
      "_model_name": "LayoutModel",
      "_view_count": null,
      "_view_module": "@jupyter-widgets/base",
      "_view_module_version": "1.2.0",
      "_view_name": "LayoutView",
      "align_content": null,
      "align_items": null,
      "align_self": null,
      "border": null,
      "bottom": null,
      "display": null,
      "flex": null,
      "flex_flow": null,
      "grid_area": null,
      "grid_auto_columns": null,
      "grid_auto_flow": null,
      "grid_auto_rows": null,
      "grid_column": null,
      "grid_gap": null,
      "grid_row": null,
      "grid_template_areas": null,
      "grid_template_columns": null,
      "grid_template_rows": null,
      "height": null,
      "justify_content": null,
      "justify_items": null,
      "left": null,
      "margin": null,
      "max_height": null,
      "max_width": null,
      "min_height": null,
      "min_width": null,
      "object_fit": null,
      "object_position": null,
      "order": null,
      "overflow": null,
      "overflow_x": null,
      "overflow_y": null,
      "padding": null,
      "right": null,
      "top": null,
      "visibility": null,
      "width": null
     }
    },
    "aac930db883d4977a9f3f08b1a0fa7a5": {
     "model_module": "@jupyter-widgets/controls",
     "model_name": "FloatProgressModel",
     "state": {
      "_dom_classes": [],
      "_model_module": "@jupyter-widgets/controls",
      "_model_module_version": "1.5.0",
      "_model_name": "FloatProgressModel",
      "_view_count": null,
      "_view_module": "@jupyter-widgets/controls",
      "_view_module_version": "1.5.0",
      "_view_name": "ProgressView",
      "bar_style": "success",
      "description": "100%",
      "description_tooltip": null,
      "layout": "IPY_MODEL_2d671cb0ab744e509c98e0d1b2fcac17",
      "max": 250,
      "min": 0,
      "orientation": "horizontal",
      "style": "IPY_MODEL_e9b5eef0caa148a8aaaa2ed576fe68cc",
      "value": 250
     }
    },
    "c7e81694439c41408bb1090cb82cd2b1": {
     "model_module": "@jupyter-widgets/controls",
     "model_name": "HBoxModel",
     "state": {
      "_dom_classes": [],
      "_model_module": "@jupyter-widgets/controls",
      "_model_module_version": "1.5.0",
      "_model_name": "HBoxModel",
      "_view_count": null,
      "_view_module": "@jupyter-widgets/controls",
      "_view_module_version": "1.5.0",
      "_view_name": "HBoxView",
      "box_style": "",
      "children": [
       "IPY_MODEL_aac930db883d4977a9f3f08b1a0fa7a5",
       "IPY_MODEL_3862f5cde98f49f783d8fc54ada40a11"
      ],
      "layout": "IPY_MODEL_7683c42a14e14250bf6e375a42028b87"
     }
    },
    "e9b5eef0caa148a8aaaa2ed576fe68cc": {
     "model_module": "@jupyter-widgets/controls",
     "model_name": "ProgressStyleModel",
     "state": {
      "_model_module": "@jupyter-widgets/controls",
      "_model_module_version": "1.5.0",
      "_model_name": "ProgressStyleModel",
      "_view_count": null,
      "_view_module": "@jupyter-widgets/base",
      "_view_module_version": "1.2.0",
      "_view_name": "StyleView",
      "bar_color": null,
      "description_width": "initial"
     }
    },
    "eb72220a381347d1bce57c5706554460": {
     "model_module": "@jupyter-widgets/controls",
     "model_name": "DescriptionStyleModel",
     "state": {
      "_model_module": "@jupyter-widgets/controls",
      "_model_module_version": "1.5.0",
      "_model_name": "DescriptionStyleModel",
      "_view_count": null,
      "_view_module": "@jupyter-widgets/base",
      "_view_module_version": "1.2.0",
      "_view_name": "StyleView",
      "description_width": ""
     }
    },
    "fe2c9cb4e208436db3c15d342f8d08e7": {
     "model_module": "@jupyter-widgets/base",
     "model_name": "LayoutModel",
     "state": {
      "_model_module": "@jupyter-widgets/base",
      "_model_module_version": "1.2.0",
      "_model_name": "LayoutModel",
      "_view_count": null,
      "_view_module": "@jupyter-widgets/base",
      "_view_module_version": "1.2.0",
      "_view_name": "LayoutView",
      "align_content": null,
      "align_items": null,
      "align_self": null,
      "border": null,
      "bottom": null,
      "display": null,
      "flex": null,
      "flex_flow": null,
      "grid_area": null,
      "grid_auto_columns": null,
      "grid_auto_flow": null,
      "grid_auto_rows": null,
      "grid_column": null,
      "grid_gap": null,
      "grid_row": null,
      "grid_template_areas": null,
      "grid_template_columns": null,
      "grid_template_rows": null,
      "height": null,
      "justify_content": null,
      "justify_items": null,
      "left": null,
      "margin": null,
      "max_height": null,
      "max_width": null,
      "min_height": null,
      "min_width": null,
      "object_fit": null,
      "object_position": null,
      "order": null,
      "overflow": null,
      "overflow_x": null,
      "overflow_y": null,
      "padding": null,
      "right": null,
      "top": null,
      "visibility": null,
      "width": null
     }
    }
   }
  }
 },
 "nbformat": 4,
 "nbformat_minor": 4
}
