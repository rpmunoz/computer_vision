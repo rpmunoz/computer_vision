{
 "cells": [
  {
   "cell_type": "markdown",
   "metadata": {
    "colab_type": "text",
    "id": "JuiT6O71HUAy"
   },
   "source": [
    "# Initial Setup"
   ]
  },
  {
   "cell_type": "code",
   "execution_count": 1,
   "metadata": {
    "colab": {
     "base_uri": "https://localhost:8080/",
     "height": 35
    },
    "colab_type": "code",
    "id": "FgWG4d-K3xRt",
    "outputId": "140af918-8fea-4aac-d44d-80191d1a2877"
   },
   "outputs": [
    {
     "name": "stdout",
     "output_type": "stream",
     "text": [
      "2.2.0\n"
     ]
    }
   ],
   "source": [
    "import os\n",
    "import numpy as np\n",
    "import datetime\n",
    "import time\n",
    "import pandas as pd\n",
    "import matplotlib.pyplot as plt\n",
    "from tqdm.notebook import tqdm\n",
    "\n",
    "import tensorflow as tf\n",
    "import tensorflow_addons as tfa\n",
    "from tensorflow import keras\n",
    "from tensorflow.keras import layers\n",
    "from tensorflow.python.util.tf_export import keras_export\n",
    "\n",
    "print(tf.__version__)"
   ]
  },
  {
   "cell_type": "code",
   "execution_count": 3,
   "metadata": {},
   "outputs": [
    {
     "name": "stdout",
     "output_type": "stream",
     "text": [
      "1 Physical GPUs, 1 Logical GPUs\n"
     ]
    }
   ],
   "source": [
    "gpus = tf.config.experimental.list_physical_devices('GPU')\n",
    "if gpus:\n",
    "  try:\n",
    "    # Currently, memory growth needs to be the same across GPUs\n",
    "    for gpu in gpus:\n",
    "      tf.config.experimental.set_memory_growth(gpu, True)\n",
    "    logical_gpus = tf.config.experimental.list_logical_devices('GPU')\n",
    "    print(len(gpus), \"Physical GPUs,\", len(logical_gpus), \"Logical GPUs\")\n",
    "  except RuntimeError as e:\n",
    "    # Memory growth must be set before GPUs have been initialized\n",
    "    print(e)"
   ]
  },
  {
   "cell_type": "markdown",
   "metadata": {
    "colab_type": "text",
    "id": "ebM6CaFsHcya"
   },
   "source": [
    "## Imagenet Subset "
   ]
  },
  {
   "cell_type": "code",
   "execution_count": 6,
   "metadata": {},
   "outputs": [],
   "source": [
    "dataDir = '/data/datasets/cifar100/raw'\n",
    "\n",
    "configDir = 'config'\n",
    "resultsDir = 'results'\n",
    "modelsDir = 'saved_models/cifar100_densenet_SGD_v1'\n",
    "logsDir = 'logs/cifar100_densenet_SGD_v1'"
   ]
  },
  {
   "cell_type": "code",
   "execution_count": 7,
   "metadata": {},
   "outputs": [],
   "source": [
    "BATCH_SIZE = 64\n",
    "NUM_EPOCHS = 100\n",
    "LOG_STEPS = 100\n",
    "AUTOTUNE = tf.data.experimental.AUTOTUNE\n",
    "\n",
    "NUM_CLASSES = 100\n",
    "IMG_HEIGHT = 32\n",
    "IMG_WIDTH = 32\n",
    "NUM_CHANNELS = 3\n",
    "\n",
    "IMG_SIZE = (IMG_HEIGHT, IMG_WIDTH)"
   ]
  },
  {
   "cell_type": "code",
   "execution_count": 8,
   "metadata": {},
   "outputs": [],
   "source": [
    "if not os.path.exists(configDir):\n",
    "  os.makedirs(configDir)\n",
    "\n",
    "if not os.path.exists(resultsDir):\n",
    "  os.makedirs(resultsDir)\n",
    "\n",
    "if not os.path.exists(modelsDir):\n",
    "  os.makedirs(modelsDir)\n",
    "        \n",
    "if not os.path.exists(logsDir):\n",
    "  os.makedirs(logsDir)"
   ]
  },
  {
   "cell_type": "code",
   "execution_count": 10,
   "metadata": {},
   "outputs": [],
   "source": [
    "def unpickle(file):\n",
    "  import pickle\n",
    "  with open(file, 'rb') as fo:\n",
    "    cifar_dict = pickle.load(fo, encoding='bytes')\n",
    "  return cifar_dict\n",
    "\n",
    "def show_batch(image_batch, label_batch):\n",
    "  plt.figure(figsize=(10,10))\n",
    "  for n in range(25):\n",
    "    ax = plt.subplot(5,5,n+1)\n",
    "    plt.imshow(image_batch[n])\n",
    "    plt.title(CLASS_NAMES[label_batch[n]==1][0].title())\n",
    "    plt.axis('off')"
   ]
  },
  {
   "cell_type": "code",
   "execution_count": 11,
   "metadata": {},
   "outputs": [],
   "source": [
    "def rotate_zoom_tf(image, angle, zoom):\n",
    "\n",
    "  angleRad = angle/180.*np.pi\n",
    "\n",
    "  if image.shape.__len__() ==4:\n",
    "    random_angles = tf.random.uniform(shape = (tf.shape(image)[0], ), minval = -angleRad, maxval = angleRad)\n",
    "    random_zoom = tf.random.uniform(shape = (tf.shape(image)[0], ), minval = 1-zoom, maxval = 1+zoom)\n",
    "  if image.shape.__len__() ==3:\n",
    "    random_angles = tf.random.uniform(shape = (), minval = -angleRad, maxval = angleRad)\n",
    "    random_zoom = tf.random.uniform(shape = (), minval = 1-zoom, maxval = 1+zoom)\n",
    "\n",
    "  paddings = tf.constant([[int(IMG_HEIGHT/4), int(IMG_HEIGHT/4)], [int(IMG_WIDTH/4), int(IMG_WIDTH/4)], [0,0]])\n",
    "  img = tf.pad(image, paddings, \"SYMMETRIC\")\n",
    "  img = tfa.image.rotate(img, random_angles)\n",
    "  img = tf.image.resize_with_crop_or_pad(img, int(IMG_HEIGHT*random_zoom), int(IMG_WIDTH*random_zoom))\n",
    "  img = tf.image.resize(img, [IMG_HEIGHT,IMG_WIDTH], method=tf.image.ResizeMethod.BILINEAR)\n",
    "\n",
    "  return img\n",
    "\n",
    "def rotate_tf(image, angle):\n",
    "  angleRad = angle/180.*np.pi\n",
    "\n",
    "  if image.shape.__len__() ==4:   \n",
    "    random_angles = tf.random.uniform(shape = (tf.shape(image)[0], ), minval = -angleRad, maxval = angleRad)\n",
    "  if image.shape.__len__() ==3:\n",
    "    random_angles = tf.random.uniform(shape = (), minval = -angleRad, maxval = angleRad)\n",
    "\n",
    "  paddings = tf.constant([[int(IMG_HEIGHT/4), int(IMG_HEIGHT/4)], [int(IMG_WIDTH/4), int(IMG_WIDTH/4)], [0,0]])\n",
    "  img = tf.pad(image, paddings, \"SYMMETRIC\")\n",
    "  img = tfa.image.rotate(img, random_angles)\n",
    "  img = tf.image.resize_with_crop_or_pad(img, IMG_HEIGHT, IMG_WIDTH)\n",
    "\n",
    "  return img\n",
    "\n",
    "def augment(image, label):\n",
    "  #img = tf.image.rot90(image)\n",
    "  img = tf.image.flip_left_right(image)\n",
    "  #img = rotate_tf(image, 20)\n",
    "  img = rotate_zoom_tf(image, 20, 0.2)\n",
    "  #img = tf.image.random_brightness(img, 0.05)\n",
    "  #img = tf.image.random_contrast(img, 0.9, 1.1)\n",
    "  img = tf.clip_by_value(img, 0.0, 1.0)\n",
    "\n",
    "  return (img, label)\n",
    "\n",
    "def prepare_for_training(ds, cache=True, shuffle_buffer_size=1000):\n",
    "  # This is a small dataset, only load it once, and keep it in memory.\n",
    "  # use `.cache(filename)` to cache preprocessing work for datasets that don't\n",
    "  # fit in memory.\n",
    "  if cache:\n",
    "    if isinstance(cache, str):\n",
    "      ds = ds.cache(cache)\n",
    "    else:\n",
    "      ds = ds.cache()\n",
    "\n",
    "  ds = ds.shuffle(buffer_size=shuffle_buffer_size)\n",
    "\n",
    "  ds = ds.map(augment, num_parallel_calls=AUTOTUNE)\n",
    "\n",
    "  # Repeat forever\n",
    "  ds = ds.repeat()\n",
    "\n",
    "  ds = ds.batch(BATCH_SIZE)\n",
    "\n",
    "  # `prefetch` lets the dataset fetch batches in the background while the model\n",
    "  # is training.\n",
    "  ds = ds.prefetch(buffer_size=AUTOTUNE)\n",
    "\n",
    "  return ds\n",
    "\n",
    "def prepare_for_validation(ds, cache=True, shuffle_buffer_size=1000):\n",
    "  # This is a small dataset, only load it once, and keep it in memory.\n",
    "  # use `.cache(filename)` to cache preprocessing work for datasets that don't\n",
    "  # fit in memory.\n",
    "  if cache:\n",
    "    if isinstance(cache, str):\n",
    "      ds = ds.cache(cache)\n",
    "    else:\n",
    "      ds = ds.cache()\n",
    "\n",
    "  ds = ds.batch(BATCH_SIZE)\n",
    "\n",
    "  # `prefetch` lets the dataset fetch batches in the background while the model\n",
    "  # is training.\n",
    "  ds = ds.prefetch(buffer_size=AUTOTUNE)\n",
    "\n",
    "  return ds"
   ]
  },
  {
   "cell_type": "code",
   "execution_count": 12,
   "metadata": {},
   "outputs": [],
   "source": [
    "meta = unpickle(os.path.join(dataDir, 'meta'))\n",
    "train = unpickle(os.path.join(dataDir, 'train'))\n",
    "test = unpickle(os.path.join(dataDir, 'test'))"
   ]
  },
  {
   "cell_type": "code",
   "execution_count": 13,
   "metadata": {},
   "outputs": [],
   "source": [
    "classDF = pd.DataFrame(meta[b'fine_label_names'], columns = ['Classes'], dtype=str)\n",
    "CLASS_NAMES = np.array(classDF['Classes'])"
   ]
  },
  {
   "cell_type": "code",
   "execution_count": 14,
   "metadata": {},
   "outputs": [],
   "source": [
    "trainX = np.vstack(train[b\"data\"])\n",
    "trainX = trainX.reshape(len(trainX), NUM_CHANNELS, IMG_HEIGHT, IMG_WIDTH).transpose(0,2,3,1).astype(\"float32\")/255\n",
    "trainY = np.array(train[b'fine_labels'])\n",
    "trainY = tf.one_hot(trainY, NUM_CLASSES)\n",
    "\n",
    "testX = np.vstack(test[b\"data\"])\n",
    "testX = testX.reshape(len(testX), NUM_CHANNELS, IMG_HEIGHT, IMG_WIDTH).transpose(0,2,3,1).astype(\"float32\")/255\n",
    "testY = np.array(test[b'fine_labels'])#.reshape(-1,1)\n",
    "testY = tf.one_hot(testY, NUM_CLASSES)"
   ]
  },
  {
   "cell_type": "code",
   "execution_count": 18,
   "metadata": {},
   "outputs": [
    {
     "name": "stdout",
     "output_type": "stream",
     "text": [
      "Train dataset numpy array\n",
      "(50000, 32, 32, 3)\n",
      "(50000, 100)\n",
      "\n",
      "Validation dataset numpy array\n",
      "(10000, 32, 32, 3)\n",
      "(10000, 100)\n"
     ]
    }
   ],
   "source": [
    "print(\"Train dataset numpy array\")\n",
    "print(trainX.shape)\n",
    "print(trainY.shape)\n",
    "\n",
    "print(\"\\nValidation dataset numpy array\")\n",
    "print(testX.shape)\n",
    "print(testY.shape)"
   ]
  },
  {
   "cell_type": "code",
   "execution_count": 19,
   "metadata": {},
   "outputs": [],
   "source": [
    "TRAIN_EXAMPLES = trainX.shape[0]\n",
    "VAL_EXAMPLES = testX.shape[0]\n",
    "\n",
    "TRAIN_STEPS = TRAIN_EXAMPLES//BATCH_SIZE\n",
    "VAL_STEPS = VAL_EXAMPLES//BATCH_SIZE"
   ]
  },
  {
   "cell_type": "code",
   "execution_count": 20,
   "metadata": {},
   "outputs": [],
   "source": [
    "trainLabelDS = tf.data.Dataset.from_tensor_slices((trainX, trainY))\n",
    "valLabelDS = tf.data.Dataset.from_tensor_slices((testX, testY))"
   ]
  },
  {
   "cell_type": "code",
   "execution_count": 21,
   "metadata": {},
   "outputs": [],
   "source": [
    "trainDS = prepare_for_training(trainLabelDS)\n",
    "valDS = prepare_for_validation(valLabelDS)"
   ]
  },
  {
   "cell_type": "code",
   "execution_count": 22,
   "metadata": {},
   "outputs": [
    {
     "data": {
      "image/png": "[encoded data removed]",
      "text/plain": [
       "<Figure size 720x720 with 25 Axes>"
      ]
     },
     "metadata": {
      "needs_background": "light"
     },
     "output_type": "display_data"
    }
   ],
   "source": [
    "image_batch, label_batch = next(iter(trainDS))\n",
    "show_batch(image_batch.numpy(), label_batch.numpy())"
   ]
  },
  {
   "cell_type": "markdown",
   "metadata": {},
   "source": [
    "## Create model"
   ]
  },
  {
   "cell_type": "code",
   "execution_count": 23,
   "metadata": {},
   "outputs": [],
   "source": [
    "modelDiagramFile = os.path.join(resultsDir, 'model_densenet_cifar100_v1.png')\n",
    "\n",
    "base_model = tf.keras.applications.DenseNet169(input_shape=(IMG_HEIGHT, IMG_WIDTH, NUM_CHANNELS), weights=None, include_top=False)\n",
    "\n",
    "x = base_model.output\n",
    "x = layers.GlobalAveragePooling2D()(x)\n",
    "predictions = layers.Dense(NUM_CLASSES, activation='softmax')(x)\n",
    "model = keras.Model(inputs=base_model.input, outputs=predictions)\n",
    "\n",
    "#keras.utils.plot_model(model, to_file=modelDiagramFile, show_shapes=True)\n",
    "#model.summary()"
   ]
  },
  {
   "cell_type": "markdown",
   "metadata": {},
   "source": [
    "## Train model"
   ]
  },
  {
   "cell_type": "code",
   "execution_count": 37,
   "metadata": {},
   "outputs": [],
   "source": [
    "from utils.optimization import create_learner\n",
    "\n",
    "learning_rate_fn = create_learner(batch_size=BATCH_SIZE,\n",
    "                                  epoch_size=TRAIN_EXAMPLES,\n",
    "                                  init_lr=0.01,\n",
    "                                  warmup_epochs=5,\n",
    "                                  boundaries=[30, 60, 80],\n",
    "                                  multipliers=[1.0, 0.1, 0.01, 0.001])"
   ]
  },
  {
   "cell_type": "code",
   "execution_count": 38,
   "metadata": {},
   "outputs": [],
   "source": [
    "optimizer = tf.keras.optimizers.SGD(learning_rate=learning_rate_fn,\n",
    "                                    momentum=0.9,\n",
    "                                    nesterov= None)"
   ]
  },
  {
   "cell_type": "code",
   "execution_count": 39,
   "metadata": {},
   "outputs": [],
   "source": [
    "loss_obj = tf.keras.losses.CategoricalCrossentropy(\n",
    "          label_smoothing=0.1)"
   ]
  },
  {
   "cell_type": "code",
   "execution_count": 40,
   "metadata": {},
   "outputs": [],
   "source": [
    "metrics=[tf.keras.metrics.CategoricalAccuracy(name='accuracy'),\n",
    "         tf.keras.metrics.TopKCategoricalAccuracy(k=5, name='top_5_accuracy')]"
   ]
  },
  {
   "cell_type": "code",
   "execution_count": 41,
   "metadata": {},
   "outputs": [],
   "source": [
    "model.compile(optimizer=optimizer,\n",
    "              loss=loss_obj,\n",
    "              metrics=metrics)"
   ]
  },
  {
   "cell_type": "code",
   "execution_count": 42,
   "metadata": {},
   "outputs": [],
   "source": [
    "# Hack to log learning rate in Tensorboard\n",
    "\n",
    "class TensorBoard(tf.keras.callbacks.TensorBoard):\n",
    "    def _collect_learning_rate(self, logs):\n",
    "        logs = logs or {}\n",
    "        lr_schedule = getattr(self.model.optimizer, \"lr\", None)\n",
    "        if isinstance(lr_schedule, tf.keras.optimizers.schedules.LearningRateSchedule):\n",
    "            logs[\"learning_rate\"] = tf.keras.backend.get_value(\n",
    "                lr_schedule(self.model.optimizer.iterations)\n",
    "            )\n",
    "        return logs\n",
    "\n",
    "    def _log_metrics(self, logs, prefix, step):\n",
    "        super()._log_metrics(self._collect_learning_rate(logs), prefix, step)"
   ]
  },
  {
   "cell_type": "code",
   "execution_count": 43,
   "metadata": {},
   "outputs": [],
   "source": [
    "from utils.keras_utils import TimeHistory\n",
    "\n",
    "logsCheckDir = os.path.join(logsDir, datetime.datetime.now().strftime(\"%Y%m%d-%H%M%S\"))\n",
    "\n",
    "tb_callback = TensorBoard(log_dir=logsCheckDir, histogram_freq=1)\n",
    "\n",
    "perf_callback = TimeHistory(BATCH_SIZE,\n",
    "                            LOG_STEPS,\n",
    "                            logdir=logsCheckDir+'/metrics')\n",
    "\n",
    "callbacks = [tb_callback, perf_callback]"
   ]
  },
  {
   "cell_type": "code",
   "execution_count": 44,
   "metadata": {},
   "outputs": [
    {
     "name": "stdout",
     "output_type": "stream",
     "text": [
      "Epoch 1/100\n",
      "781/781 [==============================] - 51s 66ms/step - loss: 4.4795 - accuracy: 0.0489 - top_5_accuracy: 0.1692 - val_loss: 4.2130 - val_accuracy: 0.0822 - val_top_5_accuracy: 0.2614 - learning_rate: 0.0020\n",
      "Epoch 2/100\n",
      "781/781 [==============================] - 49s 62ms/step - loss: 3.9379 - accuracy: 0.1274 - top_5_accuracy: 0.3545 - val_loss: 4.2015 - val_accuracy: 0.1070 - val_top_5_accuracy: 0.3143 - learning_rate: 0.0040\n",
      "Epoch 3/100\n",
      "781/781 [==============================] - 49s 62ms/step - loss: 3.6728 - accuracy: 0.1801 - top_5_accuracy: 0.4472 - val_loss: 4.2016 - val_accuracy: 0.1078 - val_top_5_accuracy: 0.3030 - learning_rate: 0.0060\n",
      "Epoch 4/100\n",
      "781/781 [==============================] - 49s 63ms/step - loss: 3.4519 - accuracy: 0.2314 - top_5_accuracy: 0.5224 - val_loss: 4.1558 - val_accuracy: 0.1521 - val_top_5_accuracy: 0.3702 - learning_rate: 0.0080\n",
      "Epoch 5/100\n",
      "781/781 [==============================] - 49s 63ms/step - loss: 3.2728 - accuracy: 0.2722 - top_5_accuracy: 0.5741 - val_loss: 3.3397 - val_accuracy: 0.2601 - val_top_5_accuracy: 0.5636 - learning_rate: 0.0100\n",
      "Epoch 6/100\n",
      "781/781 [==============================] - 49s 63ms/step - loss: 3.0748 - accuracy: 0.3190 - top_5_accuracy: 0.6301 - val_loss: 3.5637 - val_accuracy: 0.2401 - val_top_5_accuracy: 0.5232 - learning_rate: 0.0100\n",
      "Epoch 7/100\n",
      "781/781 [==============================] - 49s 63ms/step - loss: 2.8824 - accuracy: 0.3656 - top_5_accuracy: 0.6821 - val_loss: 3.2267 - val_accuracy: 0.3081 - val_top_5_accuracy: 0.6028 - learning_rate: 0.0100\n",
      "Epoch 8/100\n",
      "781/781 [==============================] - 49s 63ms/step - loss: 2.7219 - accuracy: 0.4056 - top_5_accuracy: 0.7262 - val_loss: 3.0090 - val_accuracy: 0.3434 - val_top_5_accuracy: 0.6575 - learning_rate: 0.0100\n",
      "Epoch 9/100\n",
      "781/781 [==============================] - 49s 63ms/step - loss: 2.5905 - accuracy: 0.4409 - top_5_accuracy: 0.7560 - val_loss: 3.0570 - val_accuracy: 0.3449 - val_top_5_accuracy: 0.6522 - learning_rate: 0.0100\n",
      "Epoch 10/100\n",
      "781/781 [==============================] - 49s 63ms/step - loss: 2.4732 - accuracy: 0.4739 - top_5_accuracy: 0.7860 - val_loss: 2.9808 - val_accuracy: 0.3644 - val_top_5_accuracy: 0.6611 - learning_rate: 0.0100\n",
      "Epoch 11/100\n",
      "781/781 [==============================] - 49s 63ms/step - loss: 2.3729 - accuracy: 0.5014 - top_5_accuracy: 0.8096 - val_loss: 2.9406 - val_accuracy: 0.3791 - val_top_5_accuracy: 0.6807 - learning_rate: 0.0100\n",
      "Epoch 12/100\n",
      "781/781 [==============================] - 49s 63ms/step - loss: 2.2687 - accuracy: 0.5316 - top_5_accuracy: 0.8326 - val_loss: 2.8703 - val_accuracy: 0.4015 - val_top_5_accuracy: 0.6898 - learning_rate: 0.0100\n",
      "Epoch 13/100\n",
      "781/781 [==============================] - 49s 63ms/step - loss: 2.1719 - accuracy: 0.5626 - top_5_accuracy: 0.8545 - val_loss: 2.9217 - val_accuracy: 0.3927 - val_top_5_accuracy: 0.6820 - learning_rate: 0.0100\n",
      "Epoch 14/100\n",
      "781/781 [==============================] - 49s 63ms/step - loss: 2.0904 - accuracy: 0.5872 - top_5_accuracy: 0.8718 - val_loss: 2.8212 - val_accuracy: 0.4254 - val_top_5_accuracy: 0.7091 - learning_rate: 0.0100\n",
      "Epoch 15/100\n",
      "781/781 [==============================] - 49s 63ms/step - loss: 2.0019 - accuracy: 0.6173 - top_5_accuracy: 0.8882 - val_loss: 3.0342 - val_accuracy: 0.3921 - val_top_5_accuracy: 0.6699 - learning_rate: 0.0100\n",
      "Epoch 16/100\n",
      "781/781 [==============================] - 49s 63ms/step - loss: 1.9304 - accuracy: 0.6391 - top_5_accuracy: 0.9034 - val_loss: 2.8715 - val_accuracy: 0.4236 - val_top_5_accuracy: 0.7019 - learning_rate: 0.0100\n",
      "Epoch 17/100\n",
      "781/781 [==============================] - 49s 63ms/step - loss: 1.8526 - accuracy: 0.6680 - top_5_accuracy: 0.9184 - val_loss: 2.9573 - val_accuracy: 0.4084 - val_top_5_accuracy: 0.6941 - learning_rate: 0.0100\n",
      "Epoch 18/100\n",
      "781/781 [==============================] - 49s 63ms/step - loss: 1.7870 - accuracy: 0.6875 - top_5_accuracy: 0.9296 - val_loss: 2.9733 - val_accuracy: 0.4192 - val_top_5_accuracy: 0.6891 - learning_rate: 0.0100\n",
      "Epoch 19/100\n",
      "781/781 [==============================] - 49s 63ms/step - loss: 1.7151 - accuracy: 0.7099 - top_5_accuracy: 0.9420 - val_loss: 2.8476 - val_accuracy: 0.4382 - val_top_5_accuracy: 0.7198 - learning_rate: 0.0100\n",
      "Epoch 20/100\n",
      "781/781 [==============================] - 49s 63ms/step - loss: 1.6547 - accuracy: 0.7349 - top_5_accuracy: 0.9493 - val_loss: 2.9436 - val_accuracy: 0.4258 - val_top_5_accuracy: 0.6992 - learning_rate: 0.0100\n",
      "Epoch 21/100\n",
      "781/781 [==============================] - 49s 63ms/step - loss: 1.5937 - accuracy: 0.7581 - top_5_accuracy: 0.9590 - val_loss: 2.9133 - val_accuracy: 0.4351 - val_top_5_accuracy: 0.7065 - learning_rate: 0.0100\n",
      "Epoch 22/100\n",
      "781/781 [==============================] - 49s 63ms/step - loss: 1.5295 - accuracy: 0.7826 - top_5_accuracy: 0.9662 - val_loss: 2.9918 - val_accuracy: 0.4212 - val_top_5_accuracy: 0.6992 - learning_rate: 0.0100\n",
      "Epoch 23/100\n",
      "781/781 [==============================] - 49s 63ms/step - loss: 1.4825 - accuracy: 0.8009 - top_5_accuracy: 0.9719 - val_loss: 2.9477 - val_accuracy: 0.4273 - val_top_5_accuracy: 0.6982 - learning_rate: 0.0100\n",
      "Epoch 24/100\n",
      "781/781 [==============================] - 49s 63ms/step - loss: 1.4261 - accuracy: 0.8216 - top_5_accuracy: 0.9786 - val_loss: 2.9088 - val_accuracy: 0.4440 - val_top_5_accuracy: 0.7140 - learning_rate: 0.0100\n",
      "Epoch 25/100\n",
      "781/781 [==============================] - 49s 63ms/step - loss: 1.3783 - accuracy: 0.8408 - top_5_accuracy: 0.9822 - val_loss: 2.9427 - val_accuracy: 0.4408 - val_top_5_accuracy: 0.7066 - learning_rate: 0.0100\n",
      "Epoch 26/100\n",
      "781/781 [==============================] - 49s 63ms/step - loss: 1.3406 - accuracy: 0.8565 - top_5_accuracy: 0.9861 - val_loss: 2.8563 - val_accuracy: 0.4627 - val_top_5_accuracy: 0.7194 - learning_rate: 0.0100\n",
      "Epoch 27/100\n",
      "781/781 [==============================] - 49s 63ms/step - loss: 1.2918 - accuracy: 0.8745 - top_5_accuracy: 0.9893 - val_loss: 2.8727 - val_accuracy: 0.4594 - val_top_5_accuracy: 0.7190 - learning_rate: 0.0100\n",
      "Epoch 28/100\n",
      "781/781 [==============================] - 49s 63ms/step - loss: 1.2582 - accuracy: 0.8883 - top_5_accuracy: 0.9917 - val_loss: 2.8891 - val_accuracy: 0.4644 - val_top_5_accuracy: 0.7122 - learning_rate: 0.0100\n",
      "Epoch 29/100\n",
      "781/781 [==============================] - 49s 63ms/step - loss: 1.2277 - accuracy: 0.9006 - top_5_accuracy: 0.9928 - val_loss: 2.8592 - val_accuracy: 0.4622 - val_top_5_accuracy: 0.7196 - learning_rate: 0.0100\n",
      "Epoch 30/100\n",
      "781/781 [==============================] - 49s 63ms/step - loss: 1.2023 - accuracy: 0.9101 - top_5_accuracy: 0.9934 - val_loss: 2.8549 - val_accuracy: 0.4680 - val_top_5_accuracy: 0.7167 - learning_rate: 0.0100\n",
      "Epoch 31/100\n",
      "781/781 [==============================] - 49s 63ms/step - loss: 1.1248 - accuracy: 0.9389 - top_5_accuracy: 0.9962 - val_loss: 2.6331 - val_accuracy: 0.5097 - val_top_5_accuracy: 0.7504 - learning_rate: 0.0010\n",
      "Epoch 32/100\n",
      "781/781 [==============================] - 49s 63ms/step - loss: 1.0706 - accuracy: 0.9585 - top_5_accuracy: 0.9980 - val_loss: 2.6149 - val_accuracy: 0.5119 - val_top_5_accuracy: 0.7483 - learning_rate: 0.0010\n",
      "Epoch 33/100\n",
      "781/781 [==============================] - 49s 63ms/step - loss: 1.0488 - accuracy: 0.9658 - top_5_accuracy: 0.9985 - val_loss: 2.6062 - val_accuracy: 0.5157 - val_top_5_accuracy: 0.7482 - learning_rate: 0.0010\n",
      "Epoch 34/100\n",
      "781/781 [==============================] - 49s 63ms/step - loss: 1.0355 - accuracy: 0.9697 - top_5_accuracy: 0.9986 - val_loss: 2.6121 - val_accuracy: 0.5119 - val_top_5_accuracy: 0.7485 - learning_rate: 0.0010\n",
      "Epoch 35/100\n",
      "781/781 [==============================] - 50s 63ms/step - loss: 1.0262 - accuracy: 0.9731 - top_5_accuracy: 0.9988 - val_loss: 2.6011 - val_accuracy: 0.5102 - val_top_5_accuracy: 0.7472 - learning_rate: 0.0010\n",
      "Epoch 36/100\n",
      "781/781 [==============================] - 49s 63ms/step - loss: 1.0185 - accuracy: 0.9750 - top_5_accuracy: 0.9991 - val_loss: 2.6030 - val_accuracy: 0.5143 - val_top_5_accuracy: 0.7476 - learning_rate: 0.0010\n",
      "Epoch 37/100\n",
      "781/781 [==============================] - 49s 63ms/step - loss: 1.0099 - accuracy: 0.9784 - top_5_accuracy: 0.9992 - val_loss: 2.6081 - val_accuracy: 0.5110 - val_top_5_accuracy: 0.7454 - learning_rate: 0.0010\n",
      "Epoch 38/100\n",
      "781/781 [==============================] - 49s 63ms/step - loss: 1.0074 - accuracy: 0.9793 - top_5_accuracy: 0.9993 - val_loss: 2.5985 - val_accuracy: 0.5110 - val_top_5_accuracy: 0.7481 - learning_rate: 0.0010\n",
      "Epoch 39/100\n",
      "781/781 [==============================] - 49s 62ms/step - loss: 1.0011 - accuracy: 0.9807 - top_5_accuracy: 0.9994 - val_loss: 2.6012 - val_accuracy: 0.5118 - val_top_5_accuracy: 0.7460 - learning_rate: 0.0010\n",
      "Epoch 40/100\n",
      "781/781 [==============================] - 49s 63ms/step - loss: 0.9986 - accuracy: 0.9808 - top_5_accuracy: 0.9994 - val_loss: 2.6038 - val_accuracy: 0.5118 - val_top_5_accuracy: 0.7461 - learning_rate: 0.0010\n",
      "Epoch 41/100\n",
      "781/781 [==============================] - 49s 63ms/step - loss: 0.9929 - accuracy: 0.9817 - top_5_accuracy: 0.9996 - val_loss: 2.5985 - val_accuracy: 0.5130 - val_top_5_accuracy: 0.7466 - learning_rate: 0.0010\n",
      "Epoch 42/100\n",
      "781/781 [==============================] - 49s 63ms/step - loss: 0.9896 - accuracy: 0.9824 - top_5_accuracy: 0.9995 - val_loss: 2.5954 - val_accuracy: 0.5135 - val_top_5_accuracy: 0.7466 - learning_rate: 0.0010\n",
      "Epoch 43/100\n",
      "781/781 [==============================] - 49s 63ms/step - loss: 0.9865 - accuracy: 0.9832 - top_5_accuracy: 0.9994 - val_loss: 2.5960 - val_accuracy: 0.5142 - val_top_5_accuracy: 0.7488 - learning_rate: 0.0010\n",
      "Epoch 44/100\n",
      "781/781 [==============================] - 49s 63ms/step - loss: 0.9832 - accuracy: 0.9842 - top_5_accuracy: 0.9994 - val_loss: 2.6013 - val_accuracy: 0.5128 - val_top_5_accuracy: 0.7445 - learning_rate: 0.0010\n",
      "Epoch 45/100\n",
      "781/781 [==============================] - 49s 63ms/step - loss: 0.9810 - accuracy: 0.9844 - top_5_accuracy: 0.9997 - val_loss: 2.5906 - val_accuracy: 0.5170 - val_top_5_accuracy: 0.7464 - learning_rate: 0.0010\n",
      "Epoch 46/100\n",
      "781/781 [==============================] - 49s 62ms/step - loss: 0.9760 - accuracy: 0.9864 - top_5_accuracy: 0.9996 - val_loss: 2.5891 - val_accuracy: 0.5170 - val_top_5_accuracy: 0.7467 - learning_rate: 0.0010\n",
      "Epoch 47/100\n",
      "781/781 [==============================] - 49s 63ms/step - loss: 0.9732 - accuracy: 0.9868 - top_5_accuracy: 0.9996 - val_loss: 2.5891 - val_accuracy: 0.5151 - val_top_5_accuracy: 0.7447 - learning_rate: 0.0010\n",
      "Epoch 48/100\n",
      "781/781 [==============================] - 49s 63ms/step - loss: 0.9716 - accuracy: 0.9869 - top_5_accuracy: 0.9998 - val_loss: 2.5894 - val_accuracy: 0.5158 - val_top_5_accuracy: 0.7455 - learning_rate: 0.0010\n",
      "Epoch 49/100\n",
      "781/781 [==============================] - 49s 63ms/step - loss: 0.9684 - accuracy: 0.9882 - top_5_accuracy: 0.9998 - val_loss: 2.5925 - val_accuracy: 0.5152 - val_top_5_accuracy: 0.7442 - learning_rate: 0.0010\n",
      "Epoch 50/100\n",
      "781/781 [==============================] - 49s 63ms/step - loss: 0.9655 - accuracy: 0.9883 - top_5_accuracy: 0.9998 - val_loss: 2.5915 - val_accuracy: 0.5161 - val_top_5_accuracy: 0.7474 - learning_rate: 0.0010\n",
      "Epoch 51/100\n",
      "781/781 [==============================] - 49s 63ms/step - loss: 0.9640 - accuracy: 0.9889 - top_5_accuracy: 0.9998 - val_loss: 2.5868 - val_accuracy: 0.5164 - val_top_5_accuracy: 0.7461 - learning_rate: 0.0010\n",
      "Epoch 52/100\n",
      "781/781 [==============================] - 49s 63ms/step - loss: 0.9634 - accuracy: 0.9880 - top_5_accuracy: 0.9999 - val_loss: 2.5865 - val_accuracy: 0.5172 - val_top_5_accuracy: 0.7474 - learning_rate: 0.0010\n",
      "Epoch 53/100\n",
      "781/781 [==============================] - 49s 63ms/step - loss: 0.9595 - accuracy: 0.9891 - top_5_accuracy: 0.9998 - val_loss: 2.5872 - val_accuracy: 0.5198 - val_top_5_accuracy: 0.7462 - learning_rate: 0.0010\n",
      "Epoch 54/100\n",
      "781/781 [==============================] - 49s 63ms/step - loss: 0.9600 - accuracy: 0.9895 - top_5_accuracy: 0.9998 - val_loss: 2.5897 - val_accuracy: 0.5167 - val_top_5_accuracy: 0.7448 - learning_rate: 0.0010\n",
      "Epoch 55/100\n",
      "781/781 [==============================] - 49s 63ms/step - loss: 0.9558 - accuracy: 0.9906 - top_5_accuracy: 0.9998 - val_loss: 2.5858 - val_accuracy: 0.5188 - val_top_5_accuracy: 0.7456 - learning_rate: 0.0010\n",
      "Epoch 56/100\n",
      "781/781 [==============================] - 49s 63ms/step - loss: 0.9540 - accuracy: 0.9900 - top_5_accuracy: 0.9998 - val_loss: 2.5835 - val_accuracy: 0.5187 - val_top_5_accuracy: 0.7467 - learning_rate: 0.0010\n",
      "Epoch 57/100\n",
      "781/781 [==============================] - 49s 63ms/step - loss: 0.9516 - accuracy: 0.9905 - top_5_accuracy: 0.9999 - val_loss: 2.5824 - val_accuracy: 0.5174 - val_top_5_accuracy: 0.7457 - learning_rate: 0.0010\n",
      "Epoch 58/100\n",
      "781/781 [==============================] - 49s 63ms/step - loss: 0.9523 - accuracy: 0.9910 - top_5_accuracy: 1.0000 - val_loss: 2.5807 - val_accuracy: 0.5160 - val_top_5_accuracy: 0.7455 - learning_rate: 0.0010\n",
      "Epoch 59/100\n",
      "781/781 [==============================] - 49s 63ms/step - loss: 0.9487 - accuracy: 0.9917 - top_5_accuracy: 0.9999 - val_loss: 2.5813 - val_accuracy: 0.5160 - val_top_5_accuracy: 0.7445 - learning_rate: 0.0010\n",
      "Epoch 60/100\n",
      "781/781 [==============================] - 49s 62ms/step - loss: 0.9500 - accuracy: 0.9906 - top_5_accuracy: 0.9998 - val_loss: 2.5858 - val_accuracy: 0.5167 - val_top_5_accuracy: 0.7457 - learning_rate: 0.0010\n",
      "Epoch 61/100\n",
      "107/781 [===>..........................] - ETA: 38s - loss: 0.9506 - accuracy: 0.9917 - top_5_accuracy: 1.0000"
     ]
    },
    {
     "ename": "KeyboardInterrupt",
     "evalue": "",
     "output_type": "error",
     "traceback": [
      "\u001b[0;31m---------------------------------------------------------------------------\u001b[0m",
      "\u001b[0;31mKeyboardInterrupt\u001b[0m                         Traceback (most recent call last)",
      "\u001b[0;32m<ipython-input-44-f3bea0a3a7ca>\u001b[0m in \u001b[0;36m<module>\u001b[0;34m\u001b[0m\n\u001b[1;32m      8\u001b[0m           \u001b[0mvalidation_data\u001b[0m\u001b[0;34m=\u001b[0m\u001b[0mvalDS\u001b[0m\u001b[0;34m,\u001b[0m\u001b[0;34m\u001b[0m\u001b[0;34m\u001b[0m\u001b[0m\n\u001b[1;32m      9\u001b[0m           \u001b[0mvalidation_steps\u001b[0m\u001b[0;34m=\u001b[0m\u001b[0mVAL_STEPS\u001b[0m\u001b[0;34m,\u001b[0m\u001b[0;34m\u001b[0m\u001b[0;34m\u001b[0m\u001b[0m\n\u001b[0;32m---> 10\u001b[0;31m           validation_freq=1)\n\u001b[0m\u001b[1;32m     11\u001b[0m \u001b[0;34m\u001b[0m\u001b[0m\n\u001b[1;32m     12\u001b[0m \u001b[0mendTime\u001b[0m \u001b[0;34m=\u001b[0m \u001b[0mtime\u001b[0m\u001b[0;34m.\u001b[0m\u001b[0mtime\u001b[0m\u001b[0;34m(\u001b[0m\u001b[0;34m)\u001b[0m\u001b[0;34m\u001b[0m\u001b[0;34m\u001b[0m\u001b[0m\n",
      "\u001b[0;32m/data/anaconda3/envs/tf2/lib/python3.7/site-packages/tensorflow/python/keras/engine/training.py\u001b[0m in \u001b[0;36m_method_wrapper\u001b[0;34m(self, *args, **kwargs)\u001b[0m\n\u001b[1;32m     64\u001b[0m   \u001b[0;32mdef\u001b[0m \u001b[0m_method_wrapper\u001b[0m\u001b[0;34m(\u001b[0m\u001b[0mself\u001b[0m\u001b[0;34m,\u001b[0m \u001b[0;34m*\u001b[0m\u001b[0margs\u001b[0m\u001b[0;34m,\u001b[0m \u001b[0;34m**\u001b[0m\u001b[0mkwargs\u001b[0m\u001b[0;34m)\u001b[0m\u001b[0;34m:\u001b[0m\u001b[0;34m\u001b[0m\u001b[0;34m\u001b[0m\u001b[0m\n\u001b[1;32m     65\u001b[0m     \u001b[0;32mif\u001b[0m \u001b[0;32mnot\u001b[0m \u001b[0mself\u001b[0m\u001b[0;34m.\u001b[0m\u001b[0m_in_multi_worker_mode\u001b[0m\u001b[0;34m(\u001b[0m\u001b[0;34m)\u001b[0m\u001b[0;34m:\u001b[0m  \u001b[0;31m# pylint: disable=protected-access\u001b[0m\u001b[0;34m\u001b[0m\u001b[0;34m\u001b[0m\u001b[0m\n\u001b[0;32m---> 66\u001b[0;31m       \u001b[0;32mreturn\u001b[0m \u001b[0mmethod\u001b[0m\u001b[0;34m(\u001b[0m\u001b[0mself\u001b[0m\u001b[0;34m,\u001b[0m \u001b[0;34m*\u001b[0m\u001b[0margs\u001b[0m\u001b[0;34m,\u001b[0m \u001b[0;34m**\u001b[0m\u001b[0mkwargs\u001b[0m\u001b[0;34m)\u001b[0m\u001b[0;34m\u001b[0m\u001b[0;34m\u001b[0m\u001b[0m\n\u001b[0m\u001b[1;32m     67\u001b[0m \u001b[0;34m\u001b[0m\u001b[0m\n\u001b[1;32m     68\u001b[0m     \u001b[0;31m# Running inside `run_distribute_coordinator` already.\u001b[0m\u001b[0;34m\u001b[0m\u001b[0;34m\u001b[0m\u001b[0;34m\u001b[0m\u001b[0m\n",
      "\u001b[0;32m/data/anaconda3/envs/tf2/lib/python3.7/site-packages/tensorflow/python/keras/engine/training.py\u001b[0m in \u001b[0;36mfit\u001b[0;34m(self, x, y, batch_size, epochs, verbose, callbacks, validation_split, validation_data, shuffle, class_weight, sample_weight, initial_epoch, steps_per_epoch, validation_steps, validation_batch_size, validation_freq, max_queue_size, workers, use_multiprocessing)\u001b[0m\n\u001b[1;32m    846\u001b[0m                 batch_size=batch_size):\n\u001b[1;32m    847\u001b[0m               \u001b[0mcallbacks\u001b[0m\u001b[0;34m.\u001b[0m\u001b[0mon_train_batch_begin\u001b[0m\u001b[0;34m(\u001b[0m\u001b[0mstep\u001b[0m\u001b[0;34m)\u001b[0m\u001b[0;34m\u001b[0m\u001b[0;34m\u001b[0m\u001b[0m\n\u001b[0;32m--> 848\u001b[0;31m               \u001b[0mtmp_logs\u001b[0m \u001b[0;34m=\u001b[0m \u001b[0mtrain_function\u001b[0m\u001b[0;34m(\u001b[0m\u001b[0miterator\u001b[0m\u001b[0;34m)\u001b[0m\u001b[0;34m\u001b[0m\u001b[0;34m\u001b[0m\u001b[0m\n\u001b[0m\u001b[1;32m    849\u001b[0m               \u001b[0;31m# Catch OutOfRangeError for Datasets of unknown size.\u001b[0m\u001b[0;34m\u001b[0m\u001b[0;34m\u001b[0m\u001b[0;34m\u001b[0m\u001b[0m\n\u001b[1;32m    850\u001b[0m               \u001b[0;31m# This blocks until the batch has finished executing.\u001b[0m\u001b[0;34m\u001b[0m\u001b[0;34m\u001b[0m\u001b[0;34m\u001b[0m\u001b[0m\n",
      "\u001b[0;32m/data/anaconda3/envs/tf2/lib/python3.7/site-packages/tensorflow/python/eager/def_function.py\u001b[0m in \u001b[0;36m__call__\u001b[0;34m(self, *args, **kwds)\u001b[0m\n\u001b[1;32m    578\u001b[0m         \u001b[0mxla_context\u001b[0m\u001b[0;34m.\u001b[0m\u001b[0mExit\u001b[0m\u001b[0;34m(\u001b[0m\u001b[0;34m)\u001b[0m\u001b[0;34m\u001b[0m\u001b[0;34m\u001b[0m\u001b[0m\n\u001b[1;32m    579\u001b[0m     \u001b[0;32melse\u001b[0m\u001b[0;34m:\u001b[0m\u001b[0;34m\u001b[0m\u001b[0;34m\u001b[0m\u001b[0m\n\u001b[0;32m--> 580\u001b[0;31m       \u001b[0mresult\u001b[0m \u001b[0;34m=\u001b[0m \u001b[0mself\u001b[0m\u001b[0;34m.\u001b[0m\u001b[0m_call\u001b[0m\u001b[0;34m(\u001b[0m\u001b[0;34m*\u001b[0m\u001b[0margs\u001b[0m\u001b[0;34m,\u001b[0m \u001b[0;34m**\u001b[0m\u001b[0mkwds\u001b[0m\u001b[0;34m)\u001b[0m\u001b[0;34m\u001b[0m\u001b[0;34m\u001b[0m\u001b[0m\n\u001b[0m\u001b[1;32m    581\u001b[0m \u001b[0;34m\u001b[0m\u001b[0m\n\u001b[1;32m    582\u001b[0m     \u001b[0;32mif\u001b[0m \u001b[0mtracing_count\u001b[0m \u001b[0;34m==\u001b[0m \u001b[0mself\u001b[0m\u001b[0;34m.\u001b[0m\u001b[0m_get_tracing_count\u001b[0m\u001b[0;34m(\u001b[0m\u001b[0;34m)\u001b[0m\u001b[0;34m:\u001b[0m\u001b[0;34m\u001b[0m\u001b[0;34m\u001b[0m\u001b[0m\n",
      "\u001b[0;32m/data/anaconda3/envs/tf2/lib/python3.7/site-packages/tensorflow/python/eager/def_function.py\u001b[0m in \u001b[0;36m_call\u001b[0;34m(self, *args, **kwds)\u001b[0m\n\u001b[1;32m    609\u001b[0m       \u001b[0;31m# In this case we have created variables on the first call, so we run the\u001b[0m\u001b[0;34m\u001b[0m\u001b[0;34m\u001b[0m\u001b[0;34m\u001b[0m\u001b[0m\n\u001b[1;32m    610\u001b[0m       \u001b[0;31m# defunned version which is guaranteed to never create variables.\u001b[0m\u001b[0;34m\u001b[0m\u001b[0;34m\u001b[0m\u001b[0;34m\u001b[0m\u001b[0m\n\u001b[0;32m--> 611\u001b[0;31m       \u001b[0;32mreturn\u001b[0m \u001b[0mself\u001b[0m\u001b[0;34m.\u001b[0m\u001b[0m_stateless_fn\u001b[0m\u001b[0;34m(\u001b[0m\u001b[0;34m*\u001b[0m\u001b[0margs\u001b[0m\u001b[0;34m,\u001b[0m \u001b[0;34m**\u001b[0m\u001b[0mkwds\u001b[0m\u001b[0;34m)\u001b[0m  \u001b[0;31m# pylint: disable=not-callable\u001b[0m\u001b[0;34m\u001b[0m\u001b[0;34m\u001b[0m\u001b[0m\n\u001b[0m\u001b[1;32m    612\u001b[0m     \u001b[0;32melif\u001b[0m \u001b[0mself\u001b[0m\u001b[0;34m.\u001b[0m\u001b[0m_stateful_fn\u001b[0m \u001b[0;32mis\u001b[0m \u001b[0;32mnot\u001b[0m \u001b[0;32mNone\u001b[0m\u001b[0;34m:\u001b[0m\u001b[0;34m\u001b[0m\u001b[0;34m\u001b[0m\u001b[0m\n\u001b[1;32m    613\u001b[0m       \u001b[0;31m# Release the lock early so that multiple threads can perform the call\u001b[0m\u001b[0;34m\u001b[0m\u001b[0;34m\u001b[0m\u001b[0;34m\u001b[0m\u001b[0m\n",
      "\u001b[0;32m/data/anaconda3/envs/tf2/lib/python3.7/site-packages/tensorflow/python/eager/function.py\u001b[0m in \u001b[0;36m__call__\u001b[0;34m(self, *args, **kwargs)\u001b[0m\n\u001b[1;32m   2418\u001b[0m     \u001b[0;32mwith\u001b[0m \u001b[0mself\u001b[0m\u001b[0;34m.\u001b[0m\u001b[0m_lock\u001b[0m\u001b[0;34m:\u001b[0m\u001b[0;34m\u001b[0m\u001b[0;34m\u001b[0m\u001b[0m\n\u001b[1;32m   2419\u001b[0m       \u001b[0mgraph_function\u001b[0m\u001b[0;34m,\u001b[0m \u001b[0margs\u001b[0m\u001b[0;34m,\u001b[0m \u001b[0mkwargs\u001b[0m \u001b[0;34m=\u001b[0m \u001b[0mself\u001b[0m\u001b[0;34m.\u001b[0m\u001b[0m_maybe_define_function\u001b[0m\u001b[0;34m(\u001b[0m\u001b[0margs\u001b[0m\u001b[0;34m,\u001b[0m \u001b[0mkwargs\u001b[0m\u001b[0;34m)\u001b[0m\u001b[0;34m\u001b[0m\u001b[0;34m\u001b[0m\u001b[0m\n\u001b[0;32m-> 2420\u001b[0;31m     \u001b[0;32mreturn\u001b[0m \u001b[0mgraph_function\u001b[0m\u001b[0;34m.\u001b[0m\u001b[0m_filtered_call\u001b[0m\u001b[0;34m(\u001b[0m\u001b[0margs\u001b[0m\u001b[0;34m,\u001b[0m \u001b[0mkwargs\u001b[0m\u001b[0;34m)\u001b[0m  \u001b[0;31m# pylint: disable=protected-access\u001b[0m\u001b[0;34m\u001b[0m\u001b[0;34m\u001b[0m\u001b[0m\n\u001b[0m\u001b[1;32m   2421\u001b[0m \u001b[0;34m\u001b[0m\u001b[0m\n\u001b[1;32m   2422\u001b[0m   \u001b[0;34m@\u001b[0m\u001b[0mproperty\u001b[0m\u001b[0;34m\u001b[0m\u001b[0;34m\u001b[0m\u001b[0m\n",
      "\u001b[0;32m/data/anaconda3/envs/tf2/lib/python3.7/site-packages/tensorflow/python/eager/function.py\u001b[0m in \u001b[0;36m_filtered_call\u001b[0;34m(self, args, kwargs)\u001b[0m\n\u001b[1;32m   1663\u001b[0m          if isinstance(t, (ops.Tensor,\n\u001b[1;32m   1664\u001b[0m                            resource_variable_ops.BaseResourceVariable))),\n\u001b[0;32m-> 1665\u001b[0;31m         self.captured_inputs)\n\u001b[0m\u001b[1;32m   1666\u001b[0m \u001b[0;34m\u001b[0m\u001b[0m\n\u001b[1;32m   1667\u001b[0m   \u001b[0;32mdef\u001b[0m \u001b[0m_call_flat\u001b[0m\u001b[0;34m(\u001b[0m\u001b[0mself\u001b[0m\u001b[0;34m,\u001b[0m \u001b[0margs\u001b[0m\u001b[0;34m,\u001b[0m \u001b[0mcaptured_inputs\u001b[0m\u001b[0;34m,\u001b[0m \u001b[0mcancellation_manager\u001b[0m\u001b[0;34m=\u001b[0m\u001b[0;32mNone\u001b[0m\u001b[0;34m)\u001b[0m\u001b[0;34m:\u001b[0m\u001b[0;34m\u001b[0m\u001b[0;34m\u001b[0m\u001b[0m\n",
      "\u001b[0;32m/data/anaconda3/envs/tf2/lib/python3.7/site-packages/tensorflow/python/eager/function.py\u001b[0m in \u001b[0;36m_call_flat\u001b[0;34m(self, args, captured_inputs, cancellation_manager)\u001b[0m\n\u001b[1;32m   1744\u001b[0m       \u001b[0;31m# No tape is watching; skip to running the function.\u001b[0m\u001b[0;34m\u001b[0m\u001b[0;34m\u001b[0m\u001b[0;34m\u001b[0m\u001b[0m\n\u001b[1;32m   1745\u001b[0m       return self._build_call_outputs(self._inference_function.call(\n\u001b[0;32m-> 1746\u001b[0;31m           ctx, args, cancellation_manager=cancellation_manager))\n\u001b[0m\u001b[1;32m   1747\u001b[0m     forward_backward = self._select_forward_and_backward_functions(\n\u001b[1;32m   1748\u001b[0m         \u001b[0margs\u001b[0m\u001b[0;34m,\u001b[0m\u001b[0;34m\u001b[0m\u001b[0;34m\u001b[0m\u001b[0m\n",
      "\u001b[0;32m/data/anaconda3/envs/tf2/lib/python3.7/site-packages/tensorflow/python/eager/function.py\u001b[0m in \u001b[0;36mcall\u001b[0;34m(self, ctx, args, cancellation_manager)\u001b[0m\n\u001b[1;32m    596\u001b[0m               \u001b[0minputs\u001b[0m\u001b[0;34m=\u001b[0m\u001b[0margs\u001b[0m\u001b[0;34m,\u001b[0m\u001b[0;34m\u001b[0m\u001b[0;34m\u001b[0m\u001b[0m\n\u001b[1;32m    597\u001b[0m               \u001b[0mattrs\u001b[0m\u001b[0;34m=\u001b[0m\u001b[0mattrs\u001b[0m\u001b[0;34m,\u001b[0m\u001b[0;34m\u001b[0m\u001b[0;34m\u001b[0m\u001b[0m\n\u001b[0;32m--> 598\u001b[0;31m               ctx=ctx)\n\u001b[0m\u001b[1;32m    599\u001b[0m         \u001b[0;32melse\u001b[0m\u001b[0;34m:\u001b[0m\u001b[0;34m\u001b[0m\u001b[0;34m\u001b[0m\u001b[0m\n\u001b[1;32m    600\u001b[0m           outputs = execute.execute_with_cancellation(\n",
      "\u001b[0;32m/data/anaconda3/envs/tf2/lib/python3.7/site-packages/tensorflow/python/eager/execute.py\u001b[0m in \u001b[0;36mquick_execute\u001b[0;34m(op_name, num_outputs, inputs, attrs, ctx, name)\u001b[0m\n\u001b[1;32m     58\u001b[0m     \u001b[0mctx\u001b[0m\u001b[0;34m.\u001b[0m\u001b[0mensure_initialized\u001b[0m\u001b[0;34m(\u001b[0m\u001b[0;34m)\u001b[0m\u001b[0;34m\u001b[0m\u001b[0;34m\u001b[0m\u001b[0m\n\u001b[1;32m     59\u001b[0m     tensors = pywrap_tfe.TFE_Py_Execute(ctx._handle, device_name, op_name,\n\u001b[0;32m---> 60\u001b[0;31m                                         inputs, attrs, num_outputs)\n\u001b[0m\u001b[1;32m     61\u001b[0m   \u001b[0;32mexcept\u001b[0m \u001b[0mcore\u001b[0m\u001b[0;34m.\u001b[0m\u001b[0m_NotOkStatusException\u001b[0m \u001b[0;32mas\u001b[0m \u001b[0me\u001b[0m\u001b[0;34m:\u001b[0m\u001b[0;34m\u001b[0m\u001b[0;34m\u001b[0m\u001b[0m\n\u001b[1;32m     62\u001b[0m     \u001b[0;32mif\u001b[0m \u001b[0mname\u001b[0m \u001b[0;32mis\u001b[0m \u001b[0;32mnot\u001b[0m \u001b[0;32mNone\u001b[0m\u001b[0;34m:\u001b[0m\u001b[0;34m\u001b[0m\u001b[0;34m\u001b[0m\u001b[0m\n",
      "\u001b[0;31mKeyboardInterrupt\u001b[0m: "
     ]
    }
   ],
   "source": [
    "startTime = time.time()\n",
    "\n",
    "model.fit(trainDS,\n",
    "          epochs=NUM_EPOCHS,\n",
    "          steps_per_epoch=TRAIN_STEPS,\n",
    "          initial_epoch=0,\n",
    "          callbacks=callbacks,\n",
    "          validation_data=valDS,\n",
    "          validation_steps=VAL_STEPS,\n",
    "          validation_freq=1)\n",
    "\n",
    "endTime = time.time()\n",
    "\n",
    "elapsedTime = (endTime - startTime)/60.\n",
    "print(\"\\nTotal time for model training: {} minutes\".format(elapsedTime))"
   ]
  },
  {
   "cell_type": "markdown",
   "metadata": {},
   "source": [
    "## Save model"
   ]
  },
  {
   "cell_type": "code",
   "execution_count": null,
   "metadata": {},
   "outputs": [],
   "source": [
    "modelFile = os.path.join(modelsDir, 'model_densenet169.h5')\n",
    "\n",
    "model.save(modelFile)"
   ]
  },
  {
   "cell_type": "markdown",
   "metadata": {},
   "source": [
    "## Plot confusion matrix"
   ]
  },
  {
   "cell_type": "code",
   "execution_count": null,
   "metadata": {},
   "outputs": [],
   "source": [
    "from sklearn.metrics import confusion_matrix"
   ]
  },
  {
   "cell_type": "code",
   "execution_count": null,
   "metadata": {},
   "outputs": [],
   "source": [
    "def plot_confusion_matrix(y_true, y_pred, classes,\n",
    "                          normalize=False,\n",
    "                          title=None,\n",
    "                          cmap=plt.cm.Blues):\n",
    "    \"\"\"\n",
    "    This function prints and plots the confusion matrix.\n",
    "    Normalization can be applied by setting `normalize=True`.\n",
    "    \"\"\"\n",
    "    if not title:\n",
    "        if normalize:\n",
    "            title = 'Normalized confusion matrix'\n",
    "        else:\n",
    "            title = 'Confusion matrix, without normalization'\n",
    "\n",
    "    # Compute confusion matrix\n",
    "    cm = confusion_matrix(y_true, y_pred)\n",
    "    if normalize:\n",
    "        cm = cm.astype('float') / cm.sum(axis=1)[:, np.newaxis]\n",
    "        print(\"Normalized confusion matrix\")\n",
    "    else:\n",
    "        print('Confusion matrix, without normalization')\n",
    "\n",
    "#     print(cm)\n",
    "\n",
    "    fig, ax = plt.subplots(figsize=(16,16))\n",
    "    im = ax.imshow(cm, interpolation='nearest', cmap=cmap)\n",
    "    ax.figure.colorbar(im, ax=ax)\n",
    "    # We want to show all ticks...\n",
    "    ax.set(xticks=np.arange(cm.shape[1]),\n",
    "           yticks=np.arange(cm.shape[0]),\n",
    "           # ... and label them with the respective list entries\n",
    "           xticklabels=classes, yticklabels=classes,\n",
    "           title=title,\n",
    "           ylabel='True label',\n",
    "           xlabel='Predicted label')\n",
    "\n",
    "    # Rotate the tick labels and set their alignment.\n",
    "    plt.setp(ax.get_xticklabels(), rotation=45, ha=\"right\",\n",
    "             rotation_mode=\"anchor\")\n",
    "    '''\n",
    "    # Loop over data dimensions and create text annotations.\n",
    "    fmt = '.2f' if normalize else 'd'\n",
    "    thresh = cm.max() / 2.\n",
    "    for i in range(cm.shape[0]):\n",
    "        for j in range(cm.shape[1]):\n",
    "            ax.text(j, i, format(cm[i, j], fmt),\n",
    "                    ha=\"center\", va=\"center\",\n",
    "                    color=\"white\" if cm[i, j] > thresh else \"black\")\n",
    "    '''\n",
    "    fig.tight_layout()\n",
    "    return ax\n",
    "\n",
    "\n",
    "np.set_printoptions(precision=2)"
   ]
  },
  {
   "cell_type": "code",
   "execution_count": null,
   "metadata": {},
   "outputs": [],
   "source": [
    "y_pred=np.argmax(model.predict(testX), axis=1)\n",
    "y_true=np.argmax(testY, axis=1)\n",
    "\n",
    "#Compute the confusion matrix\n",
    "confusion_mtx=confusion_matrix(y_true,y_pred)"
   ]
  },
  {
   "cell_type": "code",
   "execution_count": null,
   "metadata": {},
   "outputs": [],
   "source": [
    "# Plot non-normalized confusion matrix\n",
    "plot_confusion_matrix(y_true, y_pred, classes=CLASS_NAMES,\n",
    "                      title='Confusion matrix, without normalization')"
   ]
  },
  {
   "cell_type": "code",
   "execution_count": null,
   "metadata": {},
   "outputs": [],
   "source": []
  }
 ],
 "metadata": {
  "accelerator": "GPU",
  "colab": {
   "collapsed_sections": [],
   "name": "Fully_Supervised_Training_IMGNET_subset_Adam.ipynb",
   "provenance": []
  },
  "kernelspec": {
   "display_name": "TensorFlow",
   "language": "python",
   "name": "tf2"
  },
  "language_info": {
   "codemirror_mode": {
    "name": "ipython",
    "version": 3
   },
   "file_extension": ".py",
   "mimetype": "text/x-python",
   "name": "python",
   "nbconvert_exporter": "python",
   "pygments_lexer": "ipython3",
   "version": "3.7.7"
  },
  "widgets": {
   "application/vnd.jupyter.widget-state+json": {
    "05b5252d8859432c8724c8fb9636ef33": {
     "model_module": "@jupyter-widgets/controls",
     "model_name": "ProgressStyleModel",
     "state": {
      "_model_module": "@jupyter-widgets/controls",
      "_model_module_version": "1.5.0",
      "_model_name": "ProgressStyleModel",
      "_view_count": null,
      "_view_module": "@jupyter-widgets/base",
      "_view_module_version": "1.2.0",
      "_view_name": "StyleView",
      "bar_color": null,
      "description_width": "initial"
     }
    },
    "126f1d14800843aa9332f00aead8395b": {
     "model_module": "@jupyter-widgets/base",
     "model_name": "LayoutModel",
     "state": {
      "_model_module": "@jupyter-widgets/base",
      "_model_module_version": "1.2.0",
      "_model_name": "LayoutModel",
      "_view_count": null,
      "_view_module": "@jupyter-widgets/base",
      "_view_module_version": "1.2.0",
      "_view_name": "LayoutView",
      "align_content": null,
      "align_items": null,
      "align_self": null,
      "border": null,
      "bottom": null,
      "display": null,
      "flex": null,
      "flex_flow": null,
      "grid_area": null,
      "grid_auto_columns": null,
      "grid_auto_flow": null,
      "grid_auto_rows": null,
      "grid_column": null,
      "grid_gap": null,
      "grid_row": null,
      "grid_template_areas": null,
      "grid_template_columns": null,
      "grid_template_rows": null,
      "height": null,
      "justify_content": null,
      "justify_items": null,
      "left": null,
      "margin": null,
      "max_height": null,
      "max_width": null,
      "min_height": null,
      "min_width": null,
      "object_fit": null,
      "object_position": null,
      "order": null,
      "overflow": null,
      "overflow_x": null,
      "overflow_y": null,
      "padding": null,
      "right": null,
      "top": null,
      "visibility": null,
      "width": null
     }
    },
    "2a8b0bfc58804efea484cd4cd71dd00f": {
     "model_module": "@jupyter-widgets/controls",
     "model_name": "HBoxModel",
     "state": {
      "_dom_classes": [],
      "_model_module": "@jupyter-widgets/controls",
      "_model_module_version": "1.5.0",
      "_model_name": "HBoxModel",
      "_view_count": null,
      "_view_module": "@jupyter-widgets/controls",
      "_view_module_version": "1.5.0",
      "_view_name": "HBoxView",
      "box_style": "",
      "children": [
       "IPY_MODEL_805d93bf8f4446d3871cd93392101584",
       "IPY_MODEL_33d042e9035942359936f5d4bd6a108a"
      ],
      "layout": "IPY_MODEL_126f1d14800843aa9332f00aead8395b"
     }
    },
    "2d671cb0ab744e509c98e0d1b2fcac17": {
     "model_module": "@jupyter-widgets/base",
     "model_name": "LayoutModel",
     "state": {
      "_model_module": "@jupyter-widgets/base",
      "_model_module_version": "1.2.0",
      "_model_name": "LayoutModel",
      "_view_count": null,
      "_view_module": "@jupyter-widgets/base",
      "_view_module_version": "1.2.0",
      "_view_name": "LayoutView",
      "align_content": null,
      "align_items": null,
      "align_self": null,
      "border": null,
      "bottom": null,
      "display": null,
      "flex": null,
      "flex_flow": null,
      "grid_area": null,
      "grid_auto_columns": null,
      "grid_auto_flow": null,
      "grid_auto_rows": null,
      "grid_column": null,
      "grid_gap": null,
      "grid_row": null,
      "grid_template_areas": null,
      "grid_template_columns": null,
      "grid_template_rows": null,
      "height": null,
      "justify_content": null,
      "justify_items": null,
      "left": null,
      "margin": null,
      "max_height": null,
      "max_width": null,
      "min_height": null,
      "min_width": null,
      "object_fit": null,
      "object_position": null,
      "order": null,
      "overflow": null,
      "overflow_x": null,
      "overflow_y": null,
      "padding": null,
      "right": null,
      "top": null,
      "visibility": null,
      "width": null
     }
    },
    "33d042e9035942359936f5d4bd6a108a": {
     "model_module": "@jupyter-widgets/controls",
     "model_name": "HTMLModel",
     "state": {
      "_dom_classes": [],
      "_model_module": "@jupyter-widgets/controls",
      "_model_module_version": "1.5.0",
      "_model_name": "HTMLModel",
      "_view_count": null,
      "_view_module": "@jupyter-widgets/controls",
      "_view_module_version": "1.5.0",
      "_view_name": "HTMLView",
      "description": "",
      "description_tooltip": null,
      "layout": "IPY_MODEL_fe2c9cb4e208436db3c15d342f8d08e7",
      "placeholder": "​",
      "style": "IPY_MODEL_eb72220a381347d1bce57c5706554460",
      "value": " 1250/1250 [00:06&lt;00:00, 187.65it/s]"
     }
    },
    "3862f5cde98f49f783d8fc54ada40a11": {
     "model_module": "@jupyter-widgets/controls",
     "model_name": "HTMLModel",
     "state": {
      "_dom_classes": [],
      "_model_module": "@jupyter-widgets/controls",
      "_model_module_version": "1.5.0",
      "_model_name": "HTMLModel",
      "_view_count": null,
      "_view_module": "@jupyter-widgets/controls",
      "_view_module_version": "1.5.0",
      "_view_name": "HTMLView",
      "description": "",
      "description_tooltip": null,
      "layout": "IPY_MODEL_8c382843a4f9475fb1a084b08ea0a7ae",
      "placeholder": "​",
      "style": "IPY_MODEL_79ff0547109643e8b8002a9bf1e6ebcc",
      "value": " 250/250 [00:01&lt;00:00, 221.46it/s]"
     }
    },
    "7683c42a14e14250bf6e375a42028b87": {
     "model_module": "@jupyter-widgets/base",
     "model_name": "LayoutModel",
     "state": {
      "_model_module": "@jupyter-widgets/base",
      "_model_module_version": "1.2.0",
      "_model_name": "LayoutModel",
      "_view_count": null,
      "_view_module": "@jupyter-widgets/base",
      "_view_module_version": "1.2.0",
      "_view_name": "LayoutView",
      "align_content": null,
      "align_items": null,
      "align_self": null,
      "border": null,
      "bottom": null,
      "display": null,
      "flex": null,
      "flex_flow": null,
      "grid_area": null,
      "grid_auto_columns": null,
      "grid_auto_flow": null,
      "grid_auto_rows": null,
      "grid_column": null,
      "grid_gap": null,
      "grid_row": null,
      "grid_template_areas": null,
      "grid_template_columns": null,
      "grid_template_rows": null,
      "height": null,
      "justify_content": null,
      "justify_items": null,
      "left": null,
      "margin": null,
      "max_height": null,
      "max_width": null,
      "min_height": null,
      "min_width": null,
      "object_fit": null,
      "object_position": null,
      "order": null,
      "overflow": null,
      "overflow_x": null,
      "overflow_y": null,
      "padding": null,
      "right": null,
      "top": null,
      "visibility": null,
      "width": null
     }
    },
    "77179de1c044473abb9da855d5ab8eca": {
     "model_module": "@jupyter-widgets/base",
     "model_name": "LayoutModel",
     "state": {
      "_model_module": "@jupyter-widgets/base",
      "_model_module_version": "1.2.0",
      "_model_name": "LayoutModel",
      "_view_count": null,
      "_view_module": "@jupyter-widgets/base",
      "_view_module_version": "1.2.0",
      "_view_name": "LayoutView",
      "align_content": null,
      "align_items": null,
      "align_self": null,
      "border": null,
      "bottom": null,
      "display": null,
      "flex": null,
      "flex_flow": null,
      "grid_area": null,
      "grid_auto_columns": null,
      "grid_auto_flow": null,
      "grid_auto_rows": null,
      "grid_column": null,
      "grid_gap": null,
      "grid_row": null,
      "grid_template_areas": null,
      "grid_template_columns": null,
      "grid_template_rows": null,
      "height": null,
      "justify_content": null,
      "justify_items": null,
      "left": null,
      "margin": null,
      "max_height": null,
      "max_width": null,
      "min_height": null,
      "min_width": null,
      "object_fit": null,
      "object_position": null,
      "order": null,
      "overflow": null,
      "overflow_x": null,
      "overflow_y": null,
      "padding": null,
      "right": null,
      "top": null,
      "visibility": null,
      "width": null
     }
    },
    "79ff0547109643e8b8002a9bf1e6ebcc": {
     "model_module": "@jupyter-widgets/controls",
     "model_name": "DescriptionStyleModel",
     "state": {
      "_model_module": "@jupyter-widgets/controls",
      "_model_module_version": "1.5.0",
      "_model_name": "DescriptionStyleModel",
      "_view_count": null,
      "_view_module": "@jupyter-widgets/base",
      "_view_module_version": "1.2.0",
      "_view_name": "StyleView",
      "description_width": ""
     }
    },
    "805d93bf8f4446d3871cd93392101584": {
     "model_module": "@jupyter-widgets/controls",
     "model_name": "FloatProgressModel",
     "state": {
      "_dom_classes": [],
      "_model_module": "@jupyter-widgets/controls",
      "_model_module_version": "1.5.0",
      "_model_name": "FloatProgressModel",
      "_view_count": null,
      "_view_module": "@jupyter-widgets/controls",
      "_view_module_version": "1.5.0",
      "_view_name": "ProgressView",
      "bar_style": "success",
      "description": "100%",
      "description_tooltip": null,
      "layout": "IPY_MODEL_77179de1c044473abb9da855d5ab8eca",
      "max": 1250,
      "min": 0,
      "orientation": "horizontal",
      "style": "IPY_MODEL_05b5252d8859432c8724c8fb9636ef33",
      "value": 1250
     }
    },
    "8c382843a4f9475fb1a084b08ea0a7ae": {
     "model_module": "@jupyter-widgets/base",
     "model_name": "LayoutModel",
     "state": {
      "_model_module": "@jupyter-widgets/base",
      "_model_module_version": "1.2.0",
      "_model_name": "LayoutModel",
      "_view_count": null,
      "_view_module": "@jupyter-widgets/base",
      "_view_module_version": "1.2.0",
      "_view_name": "LayoutView",
      "align_content": null,
      "align_items": null,
      "align_self": null,
      "border": null,
      "bottom": null,
      "display": null,
      "flex": null,
      "flex_flow": null,
      "grid_area": null,
      "grid_auto_columns": null,
      "grid_auto_flow": null,
      "grid_auto_rows": null,
      "grid_column": null,
      "grid_gap": null,
      "grid_row": null,
      "grid_template_areas": null,
      "grid_template_columns": null,
      "grid_template_rows": null,
      "height": null,
      "justify_content": null,
      "justify_items": null,
      "left": null,
      "margin": null,
      "max_height": null,
      "max_width": null,
      "min_height": null,
      "min_width": null,
      "object_fit": null,
      "object_position": null,
      "order": null,
      "overflow": null,
      "overflow_x": null,
      "overflow_y": null,
      "padding": null,
      "right": null,
      "top": null,
      "visibility": null,
      "width": null
     }
    },
    "aac930db883d4977a9f3f08b1a0fa7a5": {
     "model_module": "@jupyter-widgets/controls",
     "model_name": "FloatProgressModel",
     "state": {
      "_dom_classes": [],
      "_model_module": "@jupyter-widgets/controls",
      "_model_module_version": "1.5.0",
      "_model_name": "FloatProgressModel",
      "_view_count": null,
      "_view_module": "@jupyter-widgets/controls",
      "_view_module_version": "1.5.0",
      "_view_name": "ProgressView",
      "bar_style": "success",
      "description": "100%",
      "description_tooltip": null,
      "layout": "IPY_MODEL_2d671cb0ab744e509c98e0d1b2fcac17",
      "max": 250,
      "min": 0,
      "orientation": "horizontal",
      "style": "IPY_MODEL_e9b5eef0caa148a8aaaa2ed576fe68cc",
      "value": 250
     }
    },
    "c7e81694439c41408bb1090cb82cd2b1": {
     "model_module": "@jupyter-widgets/controls",
     "model_name": "HBoxModel",
     "state": {
      "_dom_classes": [],
      "_model_module": "@jupyter-widgets/controls",
      "_model_module_version": "1.5.0",
      "_model_name": "HBoxModel",
      "_view_count": null,
      "_view_module": "@jupyter-widgets/controls",
      "_view_module_version": "1.5.0",
      "_view_name": "HBoxView",
      "box_style": "",
      "children": [
       "IPY_MODEL_aac930db883d4977a9f3f08b1a0fa7a5",
       "IPY_MODEL_3862f5cde98f49f783d8fc54ada40a11"
      ],
      "layout": "IPY_MODEL_7683c42a14e14250bf6e375a42028b87"
     }
    },
    "e9b5eef0caa148a8aaaa2ed576fe68cc": {
     "model_module": "@jupyter-widgets/controls",
     "model_name": "ProgressStyleModel",
     "state": {
      "_model_module": "@jupyter-widgets/controls",
      "_model_module_version": "1.5.0",
      "_model_name": "ProgressStyleModel",
      "_view_count": null,
      "_view_module": "@jupyter-widgets/base",
      "_view_module_version": "1.2.0",
      "_view_name": "StyleView",
      "bar_color": null,
      "description_width": "initial"
     }
    },
    "eb72220a381347d1bce57c5706554460": {
     "model_module": "@jupyter-widgets/controls",
     "model_name": "DescriptionStyleModel",
     "state": {
      "_model_module": "@jupyter-widgets/controls",
      "_model_module_version": "1.5.0",
      "_model_name": "DescriptionStyleModel",
      "_view_count": null,
      "_view_module": "@jupyter-widgets/base",
      "_view_module_version": "1.2.0",
      "_view_name": "StyleView",
      "description_width": ""
     }
    },
    "fe2c9cb4e208436db3c15d342f8d08e7": {
     "model_module": "@jupyter-widgets/base",
     "model_name": "LayoutModel",
     "state": {
      "_model_module": "@jupyter-widgets/base",
      "_model_module_version": "1.2.0",
      "_model_name": "LayoutModel",
      "_view_count": null,
      "_view_module": "@jupyter-widgets/base",
      "_view_module_version": "1.2.0",
      "_view_name": "LayoutView",
      "align_content": null,
      "align_items": null,
      "align_self": null,
      "border": null,
      "bottom": null,
      "display": null,
      "flex": null,
      "flex_flow": null,
      "grid_area": null,
      "grid_auto_columns": null,
      "grid_auto_flow": null,
      "grid_auto_rows": null,
      "grid_column": null,
      "grid_gap": null,
      "grid_row": null,
      "grid_template_areas": null,
      "grid_template_columns": null,
      "grid_template_rows": null,
      "height": null,
      "justify_content": null,
      "justify_items": null,
      "left": null,
      "margin": null,
      "max_height": null,
      "max_width": null,
      "min_height": null,
      "min_width": null,
      "object_fit": null,
      "object_position": null,
      "order": null,
      "overflow": null,
      "overflow_x": null,
      "overflow_y": null,
      "padding": null,
      "right": null,
      "top": null,
      "visibility": null,
      "width": null
     }
    }
   }
  }
 },
 "nbformat": 4,
 "nbformat_minor": 4
}
